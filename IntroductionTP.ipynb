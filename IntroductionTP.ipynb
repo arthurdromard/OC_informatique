{
 "cells": [
  {
   "cell_type": "markdown",
   "id": "provincial-jewelry",
   "metadata": {},
   "source": [
    "# TP d'informatique : Introduction\n",
    "\n",
    "## Principes\n",
    "\n",
    "+ Pendant le premier semestre, nous allons utiliser les TPs pour faire des mini-projets. C'est à dire que de façon guidée, vous allez créer des petit programme en une séance de TP. \n",
    "\n",
    "+ Pendant le deuxiême semestre, ce temps-là servira à la conception de vos projets personnels de fin d'année. C'est à dire que ça sera l'occasion d'avancer dans vos projets avec mon aide quand vous êtes bloqué. ou ne sachez pas comment faire quelques choses. Nous ferons pendant ce temps-là des points réguliers sur l'avancement de votre projets et sur la gestion de projets.\n",
    "\n",
    "## Déroulement des TPs. \n",
    "\n",
    "Les TPs se dérouleront directement sur cette plateforme. Elle permet d'intégrer un code directement dans un document. \n",
    "\n",
    "Ainsi vous aurez les consignes directement et pourrez rédiger votre code directement dans ce document. "
   ]
  }
 ],
 "metadata": {
  "kernelspec": {
   "display_name": "Python 3",
   "language": "python",
   "name": "python3"
  },
  "language_info": {
   "codemirror_mode": {
    "name": "ipython",
    "version": 3
   },
   "file_extension": ".py",
   "mimetype": "text/x-python",
   "name": "python",
   "nbconvert_exporter": "python",
   "pygments_lexer": "ipython3",
   "version": "3.7.10"
  }
 },
 "nbformat": 4,
 "nbformat_minor": 5
}
