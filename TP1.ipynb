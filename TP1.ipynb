{
 "cells": [
  {
   "cell_type": "markdown",
   "id": "c1752375-2343-424b-9247-3738789715bb",
   "metadata": {},
   "source": [
    "# TP numéro 1 : le jeu du Pendu\n",
    "\n",
    "Nous allons y aller pas à pas et de nouveaux éléments vont être présentés pendant le TP. Les plus expérimentés d'entre-vous peuvent sauter quelques étapes pour se consacrer du temps aux parties \"Aller plus loin\" \n",
    "\n",
    "## La boucle \"if\" \n",
    "\n",
    "### la boucle \"if\" toute simple \n",
    "\n",
    "Pour réaliser ce programme nous allons d'abord devoir introduire la boucle \"if\". La boucle permet de demander au programme de faire quelque chose uniquement si la condition est remplie. Exemple: si a = 2 alors affiche a. Qui en terme de code se traduit de la façon suivante:  "
   ]
  },
  {
   "cell_type": "code",
   "execution_count": 1,
   "id": "5f871b1f-987a-413c-a29d-079d66601360",
   "metadata": {},
   "outputs": [
    {
     "name": "stdout",
     "output_type": "stream",
     "text": [
      "2\n"
     ]
    }
   ],
   "source": [
    "a=2 # Ici on donne à \"a\" une valeur. \n",
    "if a==2: # On teste a ici\n",
    "    print(a) # On affiche a si il a réussi"
   ]
  },
  {
   "cell_type": "markdown",
   "id": "9280ee45-69a5-412c-b7e5-899c74fa395b",
   "metadata": {},
   "source": [
    "Dans le mini programme ci-dessus, plusieurs choses à remarquer: \n",
    "\n",
    "1. \"a==2\", ici on teste si a est égale à 2. Il faut donc bien utiliser l'opérateur \"==\" sinon on change la valeur de a \n",
    "\n",
    "2. A la fin du test, on doit mettre \":\"\n",
    "\n",
    "3. La ligne en dessous du test est décalé. Elle est décalé de 4 espaces ou une tabulation. Le fait quelle soit décalé indique à l'ordinateur de faire cette ligne que si la condition  au dessus est vrai.(Remarque dans les bons interpréteurs, le renvoi à la ligne après \":\" crée directement le décalage pour vous)    \n",
    "\n",
    "*exercice*: Dans le programme ci-dessus, changer la valeur de a pour voir ce qui se passe. \n",
    "\n",
    "*exercice*: Créer dans le cadre ci-dessous, un mini programme qui affiche b si b est supérieur à 4. Tester-le avec différente valeur de b. "
   ]
  },
  {
   "cell_type": "code",
   "execution_count": 2,
   "id": "4bd06ebc-694a-4a9d-8527-503426fdca5c",
   "metadata": {},
   "outputs": [],
   "source": [
    "# Réaliser ici le mini-programme\n"
   ]
  },
  {
   "cell_type": "markdown",
   "id": "2811cfb3-3f8a-4bf3-abbd-3e5614f962e7",
   "metadata": {},
   "source": [
    "### la boucle \"if-else\"\n",
    "\n",
    "La boucle \"if\" peut-être complétée par sa partie \"else\". Elle permet au programme de lui dire de faire autre chose si la première condition n'est pas respectée. \n",
    "\n",
    "Exemple: si a=2 alors affiche a sinon affiche \"Perdu\". En terme de code ça s'écrit de la façon suivante: "
   ]
  },
  {
   "cell_type": "code",
   "execution_count": 3,
   "id": "80aa4ef4-e91d-4ea3-9fc3-90ac2c1fe261",
   "metadata": {},
   "outputs": [
    {
     "name": "stdout",
     "output_type": "stream",
     "text": [
      "Perdu\n"
     ]
    }
   ],
   "source": [
    "a=3\n",
    "if a==2: \n",
    "    print(a)\n",
    "else: \n",
    "    print(\"Perdu\")"
   ]
  },
  {
   "cell_type": "markdown",
   "id": "3bec7f3f-ef76-443a-a499-45fd6edd9596",
   "metadata": {},
   "source": [
    "On remarque la même structure que pour la partie \"if\", c'est à dire : \n",
    "\n",
    "1. les \":\" à la fin \n",
    "\n",
    "2. Le décalage est là. \n",
    "\n",
    "*exercice*: Créer dans le cadre ci-dessous, un mini programme qui affiche \"b est supérieur à 4\" quand b>4 et \"b est inférieur ou égale à 4\" dans le cas contraire.  "
   ]
  },
  {
   "cell_type": "code",
   "execution_count": null,
   "id": "44249e18-ce8b-418f-9da8-7aec0250b350",
   "metadata": {},
   "outputs": [],
   "source": []
  },
  {
   "cell_type": "markdown",
   "id": "4dd69e55-5039-4376-95dd-7eaf8e940dff",
   "metadata": {},
   "source": [
    "### La boucle \"if-elif\"\n",
    "\n",
    "Une autre façon de compléter la boucle \"if\" est sa partie \"elif\". Elle permet au programme de lui dire de faire autre chose si la première condition n'est pas respectée mais seulement si une autre condition est respectée. \n",
    "\n",
    "Exemple, si a>2 alors affiche \"trop grand\" sinon si a<2 alors affiche \"trop petit\". En terme de code, cela donne: "
   ]
  },
  {
   "cell_type": "code",
   "execution_count": 4,
   "id": "ed5c4679-ad89-4f13-8b26-36a995b1f867",
   "metadata": {},
   "outputs": [],
   "source": [
    "a=2\n",
    "if a>2: \n",
    "    print(\"trop grand\")\n",
    "elif a<2: \n",
    "    print(\"trop petit\")"
   ]
  },
  {
   "cell_type": "markdown",
   "id": "a6ce99e2-b1cd-4a59-a522-d87b19580647",
   "metadata": {},
   "source": [
    "Plusieurs remarques:\n",
    "\n",
    "1) la structure est la même.\n",
    "\n",
    "2) On peut rajouter autant de \"elif\" que l'on veut. \n",
    "\n",
    "3) On peut compléter le programme par une partie \"else\" qui sera executée uniquement si toutes les conditions ci-dessus ne sont pas exécutées. \n"
   ]
  },
  {
   "cell_type": "markdown",
   "id": "531a2404-6a20-4c96-a4aa-07cb06e5abed",
   "metadata": {},
   "source": [
    "## Le jeu des devinettes n°1 \n",
    "\n",
    "L'idée est de créer un petit jeu où l'on doit essyer de deviner un nombre. Pour l'instant, nous n'avons qu'une seule tentative pour y arriver. Pour faire cette fonction, j'ai déjà créé le début du code qui permet d'obtenir un nombre aléatoire (voir le cadre ci-dessous): \n",
    "\n",
    "1. La partie import random permet d'importer des fonctions de la bibliothèque \"random\" permettant de générer des nombres aléatoires\n",
    "\n",
    "2. random.randint(0,10) est une fonction de \"random\" comme l'indique le \"random.\" au début du nom. Elle permet de générer un nombre aléatoire entre 0 et 10. (le 0 et 10 peuvent être modifiés en changeant les arguments de la fonction)\n",
    "\n",
    "**Etape 1** : Créer un mini programme qui: \n",
    "\n",
    "1. demande à l'utilisateur un nombre entre 0 et 10\n",
    "\n",
    "2. le compare au nombre aléatoire. Il doit préciser si le nombre choisi est \"trop grand\", \"trop petit\" ou dire bravo si c'est bon. \n",
    "\n",
    "3. le programme doit afficher à la fin le nombre qui aurait du être deviné.\n"
   ]
  },
  {
   "cell_type": "code",
   "execution_count": 5,
   "id": "3d3ea106-1ea4-4e67-bd7a-0362f8a33295",
   "metadata": {},
   "outputs": [],
   "source": [
    "import random\n",
    "\n",
    "rnd=random.randint(0,10) # Crée un nombre entier aléatoire entre 0 et 10 \n"
   ]
  },
  {
   "cell_type": "markdown",
   "id": "126f3c51-2b5c-43c1-bd3a-656a460fff7d",
   "metadata": {},
   "source": [
    "## Le jeu des devinettes n°2\n",
    "\n",
    "Cette fois-ci nous voulons avoir plusieurs chances. On va donc utiliser la boucle \"while\" (tant que). \n",
    "\n",
    "### La boucle \"While\" \n",
    "\n",
    "Une boucle While est une boucle qui se répète tant qu'une condition n'est pas réalisée. Elle se traduit de la manière suivante: tant que \"condition\" n'est pas réalisée, fait cela.\n",
    "\n",
    "Exemple: Tant que i n'est pas égal à 10 alors ajoute 1 à i et affiche i. En terme de code, celà s'écrit de la façon suivante: \n"
   ]
  },
  {
   "cell_type": "code",
   "execution_count": 6,
   "id": "d06d3864-4004-412c-ac49-820d489efd66",
   "metadata": {
    "tags": []
   },
   "outputs": [
    {
     "name": "stdout",
     "output_type": "stream",
     "text": [
      "1\n",
      "2\n",
      "3\n",
      "4\n",
      "5\n",
      "6\n",
      "7\n",
      "8\n",
      "9\n",
      "10\n"
     ]
    }
   ],
   "source": [
    "i=0 # initialisation \n",
    "while i!=10: # Compte jusqu'à 10 \n",
    "    i=i+1\n",
    "    print(i)"
   ]
  },
  {
   "cell_type": "markdown",
   "id": "1f49fafd-1fb8-45f1-93c0-6a41bb07ea7a",
   "metadata": {},
   "source": [
    "Il y a des choses importantes à remarquer:\n",
    "\n",
    "1. La structure est la même que pour la boucle \"if\". Les \":\" après la condition et le décalage dans la ou les lignes suivantes. \n",
    "\n",
    "2. C'est important d'initialiser la valeur de i. (le \"i=0\" dans la premiêre ligne de code). Si ce n'est pas fait, on ne connait pas la valeur de i et si celle-ci est supérieur à 10  alors le programme tourne à l'infini. \n",
    "\n",
    "**Attention aux boucles infinies**: Les boucles \"while\" sont dangereuses car elles peuvent entraîner des boucles infinies dans le programme. Dans ce cas là, le programme ne termine jamais. Vérifier donc que votre programme termine.\n",
    "\n",
    "*Exercice*: faite un programme dans le cadres ci-dessous qui part de 10 et affiche tous les entiers entre 10 et 0 par ordre décroissant. "
   ]
  },
  {
   "cell_type": "code",
   "execution_count": null,
   "id": "6f54ee6a-25e0-4c95-a329-878f3e0aaea6",
   "metadata": {},
   "outputs": [],
   "source": [
    "\n",
    "        "
   ]
  },
  {
   "cell_type": "markdown",
   "id": "ec74743c-2e3a-4774-995e-c6ba246f1a8a",
   "metadata": {},
   "source": [
    "**Etapes 2**: Utilisez une boucle While et reprennez le code du jeu de devinette 1 pour que l'on puisse avoir jusqu'à 10 essais. Programmer-le dans le cadre ci-dessous\n",
    "\n",
    "1. Le programme affichera \"bravo\" quand le nombre est trouvé et donnera le nombre d'essais.\n",
    "\n",
    "2. En cas d'échec le programme donnera une indication si le nombre donné est plus grand ou plus petit que le nombre à deviner et donnera le nombre d'essais restants.  \n",
    "\n",
    "3. En cas d'échec au bout des 10 tentatives, le programme affichera \"Perdu, essaie encore!\" \n",
    "\n",
    "**Etapes 3 : Aller plus loin**: Améliorer votre programme. \n",
    "\n",
    "1. Faire en sorte que vous puissiez choisir un mode facile (avec les indications trop grand / trop petit) ou un mode difficile (sans indications)\n",
    "\n",
    "2. Faire en sorte que l'utilisateur puisse choisir l'interval pour le nombre aléatoire et pas se limiter à 0 et 10 \n",
    "\n",
    "3. Faire en sorte que l'utilisateur puisse choisir le nombre d'essais\n",
    "\n",
    "4. Essayer de mettre au point un système de points en fonction de la difficulté, de l'intervalle et du nombre d'essais utilisés. "
   ]
  },
  {
   "cell_type": "code",
   "execution_count": null,
   "id": "70129db8-8927-47b5-a90e-12871489708b",
   "metadata": {},
   "outputs": [],
   "source": []
  },
  {
   "cell_type": "markdown",
   "id": "d095450b-18cb-466f-9479-fa3d70236426",
   "metadata": {},
   "source": [
    "## Le jeu du pendu \n",
    "\n",
    "Dans cette partie nous allons faire un jeu du pendu relativement simple. C'est à dire que l'on va simplifier les règles de façon à pouvoir le coder avec ce que l'on connaît déjà. \n",
    "On va donc chercher des mots de 6 lettres uniquement avec 5 échecs. Le mot sera donné dans le programme et il ne comportera que des lettres différentes (exemple : CHEVAL). \n",
    "\n",
    "### Éléments sur les chaines \n",
    "\n",
    "Avant de commencer, il faut que l'on apprenne différents éléments sur les chaines de caractères. Ici, \"chaine\" est le nom de la variable qui correspond â ma chaine de caractères.   \n",
    "\n",
    "1) Afficher une caractère à la position i: chaine[i] \n",
    "2) Afficher le début d'un mot jusqu'au ième caractère: chaine[:i]\n",
    "3) Afficher la fin d'un mot à partir du ième caractère: chaine[i:]\n",
    "4) Afficher les caractêres d'une chaine entre la position i et j : chaine[i:j]\n",
    "5) Coller deux chaine de caractères (chaine1 et chaines 2) : chaine1+chaine2\n",
    "\n",
    "*Exercice:* Essayer les éléments précédents"
   ]
  },
  {
   "cell_type": "code",
   "execution_count": null,
   "id": "f8ccb46b-0460-4250-8d96-d98c829591e9",
   "metadata": {},
   "outputs": [],
   "source": []
  },
  {
   "cell_type": "markdown",
   "id": "86caec1a-6ce8-4dae-9e0c-c175bc1e2faf",
   "metadata": {},
   "source": [
    "6) Il n'est pas possible de changer un caractère au milieu de la chaine facilement. Pour se faire on est obligé de le faire en étape: \n",
    "    1) enregistrer le début de la chaine avant le caractère dans une autre variable\n",
    "    2) enregistrer la fin de la chaine après le caractère dans un troisième variable\n",
    "    3) concatener, le début de la chaine, le nouveau caractère et la fin de la chaine\n",
    "    \n",
    "*Exercice:*\n",
    "Changer le D de \"RADEAU\" en T pour faire \"RATEAU\" dans le code suivant: "
   ]
  },
  {
   "cell_type": "code",
   "execution_count": 7,
   "id": "a548ab96-8a77-4b86-a82c-b30069a6e2e4",
   "metadata": {},
   "outputs": [],
   "source": [
    "mot=\"RADEAU\"\n"
   ]
  },
  {
   "cell_type": "markdown",
   "id": "5d677acb-2322-4044-a680-4cfe7e64a1df",
   "metadata": {},
   "source": [
    "### fonctions utiles\n",
    "\n",
    "1) La fonction upper() permet de transformer une chaine de carcactère en la même chaine mais écrit en majuscule: \n",
    "  exemple:"
   ]
  },
  {
   "cell_type": "code",
   "execution_count": 8,
   "id": "96a6c934-e8c1-4e11-bfd6-7e155738fae5",
   "metadata": {},
   "outputs": [
    {
     "name": "stdout",
     "output_type": "stream",
     "text": [
      "A\n"
     ]
    }
   ],
   "source": [
    "lettre= \"a\"\n",
    "lettre=lettre.upper()\n",
    "print(lettre) # cela va afficher A"
   ]
  },
  {
   "cell_type": "markdown",
   "id": "32a076f8-8f83-47f5-abd0-293b32e579a6",
   "metadata": {},
   "source": [
    "2) La fonction find() permet de trouver la position d'une lettre dans un mot. \n",
    "    exemple: "
   ]
  },
  {
   "cell_type": "code",
   "execution_count": 9,
   "id": "231263ef-39ab-4732-90da-4755eb819ebb",
   "metadata": {},
   "outputs": [
    {
     "name": "stdout",
     "output_type": "stream",
     "text": [
      "4\n"
     ]
    }
   ],
   "source": [
    "mot= \"CHEVAL\"\n",
    "pos=mot.find(\"A\")\n",
    "print(pos) # cela va afficher 5"
   ]
  },
  {
   "cell_type": "markdown",
   "id": "418e67f1-c507-426b-95d6-cde9c92fb55b",
   "metadata": {},
   "source": [
    "*Exercice:* \n",
    "Essayer les codes de la fonction upper et find "
   ]
  },
  {
   "cell_type": "code",
   "execution_count": null,
   "id": "edd2053a-4d39-40ab-a30c-5b6b7c1fb1b9",
   "metadata": {},
   "outputs": [],
   "source": [
    " "
   ]
  },
  {
   "cell_type": "markdown",
   "id": "d228a32d-a09b-4e9f-9231-3096dbc8eee3",
   "metadata": {},
   "source": [
    "### Création du code\n",
    "\n",
    "Voilà les objectifs de votre code: \n",
    "\n",
    "1) Au démarrage, le jeu affiche \"Jeu du pendu\"\n",
    "2) Demander au joueur une lettre. \n",
    "3) Au premier essai:\n",
    "    1) Si la lettre n'est pas présente, afficher \"# # # # # #\":  les dièses représentant les lettres inconnues. Réduire le nombre d'échec de 1 et afficher le nombre d'échecs restant.\n",
    "    2) Si la lettre est présente dans le mot l'afficher (exemple pour le A): \"# # # # A #\" \n",
    "5) À chaque autre essai: \n",
    "    1) Si la lettre n'est pas trouvé, afficher le mot avec des dièses aux endroits non trouvé (ex: si C et A on été trouvé et que la personne dit X alors on affiche \"C # # # A #\")  et on déduit les échecs de 1. \n",
    "    2) Si une nouvelle lettre est trouvée, afficher le mot en dévoilant la nouvelle lettre. \n",
    "6) Si le mot est trouvé : Afficher \"Gagné\"\n",
    "7) Si les échecs arrive à 0 : Afficher \" Perdue\". \n",
    "\n",
    "Aides: \n",
    "\n",
    "1) Traiter uniquement des majuscule. \n",
    "3) Allez-y étape par étape pour faire le code."
   ]
  },
  {
   "cell_type": "code",
   "execution_count": null,
   "id": "b0dbdb25-a1f9-428e-a009-9ebf4bab9169",
   "metadata": {},
   "outputs": [],
   "source": []
  },
  {
   "cell_type": "markdown",
   "id": "d0800e01-74eb-4e92-9f22-61ccb224b39f",
   "metadata": {},
   "source": [
    "## Allez plus loin \n",
    "\n",
    "Le but est maintenant de faire un vrai pendu. Pour celà, il va falloir faire appelle à un dictionnaire et prendre un mot au hasard. Le fichier dictionnaire est fourni et le code permettant de tirer un mot au hasard de se dictionnaire est mis dans le cadre ci-dessous. \n",
    "\n",
    "Attention: votre code va changer sur plusieurs points, il faut gérer: \n",
    "\n",
    "   1) Le fait qu'il peut y avoir des lettres qui apparaissent plusieurs fois \n",
    "   \n",
    "   2) La longueur des mots n'est pas connue. \n",
    "   \n",
    "   la fonction \"len()\" permettre de connaître la longueur d'une chaine de caractère.\n",
    "\n"
   ]
  },
  {
   "cell_type": "code",
   "execution_count": 13,
   "id": "e438f01a-f094-4e8b-a871-9de872130025",
   "metadata": {},
   "outputs": [],
   "source": [
    "import random\n",
    "fichier = open('dico.txt') # ouvre le fichier dico\n",
    "list_mots = fichier.read().splitlines() # fait une liste avec l'ensemble des mots du fichiers\n",
    "mot = random.choice(list_mots).upper() # sélection aléatoire du mot"
   ]
  }
 ],
 "metadata": {
  "kernelspec": {
   "display_name": "Python 3 (ipykernel)",
   "language": "python",
   "name": "python3"
  },
  "language_info": {
   "codemirror_mode": {
    "name": "ipython",
    "version": 3
   },
   "file_extension": ".py",
   "mimetype": "text/x-python",
   "name": "python",
   "nbconvert_exporter": "python",
   "pygments_lexer": "ipython3",
   "version": "3.9.5"
  }
 },
 "nbformat": 4,
 "nbformat_minor": 5
}
