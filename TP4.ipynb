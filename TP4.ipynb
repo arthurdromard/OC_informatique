{
 "cells": [
  {
   "cell_type": "markdown",
   "id": "f23475f3",
   "metadata": {},
   "source": [
    "# Le jeu de la vitesse de frappe. \n",
    "\n",
    "*But:* dans ce TP nous allons créer un jeu pour s'entrainer à taper plus vite sur un clavier (du type taptouche). C'est à dire un jeu où des lettres descendent sur l'écran et il faut les taper les unes après les autres.  \n",
    "\n",
    "Contrairement à d'habitude une partie du code vous sera donné, il faudra le modifier ou créer des fonctions suplémentaires. \n",
    "\n",
    "Il y aura plusieurs parties: \n",
    "\n",
    "1. la création de la fenêtre\n",
    "\n",
    "2. l'affichage des lettres et leurs descente\n",
    "\n",
    "3. la gestion des touches claviers\n",
    "\n",
    "4. l'affichage du score et la réactualisation de se dernier\n",
    "\n",
    "5. l'affichage du game_Over\n",
    "\n",
    "\n",
    "Si on a le temps, on pourra gérer aussi la possibilité d'augmenter la vitesse des lettres.\n",
    "\n",
    "## Création de la fenêtre\n",
    "\n",
    "Le code suivant permet de créer une fenêtre. Copier le dans un fichier .py (rappel Jupyter ne fonctionne pas bien avec Turtle) et jouer avec cette fenêtre et modifer l'aspect de cette dernière\n"
   ]
  },
  {
   "cell_type": "code",
   "execution_count": 1,
   "id": "3508d1aa",
   "metadata": {},
   "outputs": [],
   "source": [
    "## Préparons la fenêtre\n",
    "import turtle\n",
    "import random\n",
    "\n",
    "screen = turtle.Screen() # Affiche l'écran Turtle\n",
    "screen.setup(1000,1000) # Défini la taille de l'écran (en pixel) \n",
    "screen.title('Titre de la fenêtre') # Donne un titre à la fenêtre\n",
    "screen.bgcolor('white') # Donne la couleurs de fond de la fenêtre\n",
    "screen.tracer(0,0) # Démarre l'animation de Turtle.\n",
    "turtle.hideturtle() # Cache la tortue\n",
    "turtle.up() # leve le stylo \n",
    "turtle.color('red') # Donne la couleur rouge à la tortue\n",
    "turtle.goto(350,400) # Déplace la tortue\n",
    "turtle.write('Score: ', align='center', font=('Courier',25,'normal')) #permet d'écrire du texte\n",
    "                                                                        #à l'endroit de la tortue"
   ]
  },
  {
   "cell_type": "markdown",
   "id": "e41c501b",
   "metadata": {},
   "source": [
    "## Création des lettres et affichage de ces dernières \n",
    "\n",
    "Le but ici est d'afficher des lettres sur l'écran. Si on veut que les lettres se déplacent, il faut qu'elles soient des turtles et qu'elles aient une position  \n",
    "\n",
    "On va donc créer trois listes: une liste de lettres, une liste de turtle et une liste de position. \n",
    "\n",
    "1. Choisissez d'abord un nombre de lettres que vous voulez avoir (n_lettre)\n",
    "\n",
    "2.  Copier la liste alphabet: \n",
    "alphabet= ['a', 'b', 'c', 'd', 'e', 'f', 'g', 'h', 'i', 'j', 'k', 'l', 'm', 'n', 'o', 'p', 'q', 'r', 's', 't', 'u', 'v', 'w', 'x', 'y', 'z']\n",
    "\n",
    "3. Faire une boucle for allant jusqu'au nombre de lettre. Cette boucle for doit\n",
    "    1. ajouter un élément tortue à chaque fois à la liste tortue avec liste_tortue.append(turtle.Turtle())\n",
    "    2. ajouter un élément à la liste lettre pris au hasard dans l'alphabet et tel qu'il n'existe pas encore dans dans la liste lettre (sinon il va avoir des problèmes par la suite). La fonction random.choice(liste) prend un élément aléatoire dans la liste.\n",
    "    3. ajouter un élément à position tel qu'il soit en haut de l'écran et aléatoirement sur la longueur. exemple: pos.append([random.randint(-450,450),500])\n",
    "    4. Vérifier vos boucles en demandant à l'rodinateur d'afficher les listes positions et lettres.\n",
    "    \n",
    "## Affichage des lettres et déplacement \n",
    "\n",
    "créer une fonction afficher_lettre(). \n",
    "\n",
    "Voilà le code pour afficher la lettre à la position i, avec lts : la liste des tortues, letters : la liste des lettre et pos : la liste des positions\n"
   ]
  },
  {
   "cell_type": "code",
   "execution_count": null,
   "id": "b8a1f768",
   "metadata": {},
   "outputs": [],
   "source": [
    "lts[i].clear() ## efface la précédente position\n",
    "lts[i].hideturtle() ## cache la tortue\n",
    "lts[i].up() ## évite de marquer la ligne pendant un déplacement\n",
    "lts[i].color('blue') ## change la couleur de la tortue\n",
    "lts[i].goto(pos[i]) ## déplace la tortue à la position pos[i]\n",
    "lts[i].write(letters[i],align='center',font=('courier',20,'normal')) ## écrit la lettre à la position"
   ]
  },
  {
   "cell_type": "markdown",
   "id": "cfefe483",
   "metadata": {},
   "source": [
    "Faire une boucle for allant jusqu'au nombre d'éléments dans la liste lettre. Cette boucle doit: \n",
    "\n",
    "1. afficher une lettre\n",
    "\n",
    "2. modifier la position de la lettre (pos[i][1]-=10 fait descendre la lettre de 10, on modifie la coordonnée y de pos[i]) \n",
    "\n",
    "3. mettre screen.update() à la fin de la fonction (en dehors de la boucle) suivi de screen.ontimer(afficher_lettre,50) qui permet d'updater l'écran\n",
    "\n",
    "4. Faire appelle à la fonction afficher_lettre après l'avoir définie.\n",
    "\n",
    "5. Ajouter à la fin du programme: screen.listen() et screen.mainloop()\n",
    "\n",
    "Votre programme devrais déjà afficher des lettres qui descendent."
   ]
  },
  {
   "cell_type": "markdown",
   "id": "a4c982fc",
   "metadata": {},
   "source": [
    "## Gérer les touches clavier \n",
    "\n",
    "La première chose que l'on doit faire est de créer la fonction qui va être appelée quand on appuie sur une touche du clavier. \n",
    "\n",
    "Cette fonction va prendre comme argument une lettre. Si cette lettre est dans la liste des lettres alors \n",
    "à l'emplacement de cette lettre, il faut générer une nouvelle lettre aléatoire qui n'est pas dans la liste.\n",
    "puis la mettre en haut de l'écran (voir partie 2) \n",
    "\n",
    "Une fois cette fonction créée, copiée et adaptée les lignes de codes suivantes dans votre code (avant screen.listen()). Dans les lignes de codes f est le nom de ma fonction. Ces lignes de code disent à l'ordinateur quoi faire quand une touche est appuyée. \n",
    "\n",
    "exemple: screen.onkey(lambda: f('a'), 'a') : quand la touche 'a' est appuyée, l'ordinateur va faire appelle à la fonction f avec l'argument 'a'\n",
    "\n",
    "Une fois l'ensemble fait. Testez-le. Les lettres devraient descendre sur l'écran et quand vous appuyez dessus elle disparaissent et sont remplacées par une nouvelle lettre en haut de l'écran."
   ]
  },
  {
   "cell_type": "code",
   "execution_count": null,
   "id": "75badd49",
   "metadata": {},
   "outputs": [],
   "source": [
    "screen.onkey(lambda: f('a'), 'a')\n",
    "screen.onkey(lambda: f('b'), 'b')\n",
    "screen.onkey(lambda: f('c'), 'c')\n",
    "screen.onkey(lambda: f('d'), 'd')\n",
    "screen.onkey(lambda: f('e'), 'e')\n",
    "screen.onkey(lambda: f('f'), 'f')\n",
    "screen.onkey(lambda: f('g'), 'g')\n",
    "screen.onkey(lambda: f('h'), 'h')\n",
    "screen.onkey(lambda: f('i'), 'i')\n",
    "screen.onkey(lambda: f('j'), 'j')\n",
    "screen.onkey(lambda: f('k'), 'k')\n",
    "screen.onkey(lambda: f('l'), 'l')\n",
    "screen.onkey(lambda: f('m'), 'm')\n",
    "screen.onkey(lambda: f('n'), 'n')\n",
    "screen.onkey(lambda: f('o'), 'o')\n",
    "screen.onkey(lambda: f('p'), 'p')\n",
    "screen.onkey(lambda: f('q'), 'q')\n",
    "screen.onkey(lambda: f('r'), 'r')\n",
    "screen.onkey(lambda: f('s'), 's')\n",
    "screen.onkey(lambda: f('t'), 't')\n",
    "screen.onkey(lambda: f('u'), 'u')\n",
    "screen.onkey(lambda: f('v'), 'v')\n",
    "screen.onkey(lambda: f('w'), 'w')\n",
    "screen.onkey(lambda: f('x'), 'x')\n",
    "screen.onkey(lambda: f('y'), 'y')\n",
    "screen.onkey(lambda: f('z'), 'z')"
   ]
  },
  {
   "cell_type": "markdown",
   "id": "977510ad",
   "metadata": {},
   "source": [
    "## Gérer le score et l'afficher\n",
    "\n",
    "Pour gérer le score, on a un léger problème : on va devoir le modifier dans la fonction qui gère les touches clavier (celle que j'ai appelé f avant) mais on ne peut pas le mettre en retour de la fonction car la fonction onkey ne gère pas les fonctions avec des paramètres de sortie.\n",
    "\n",
    "Pour résoudre se problème, on va faire appelle à une petite astuce (pas très propre). À la place d'utiliser un entier, on va utiliser une liste d'un seul élément. On évitera alors le problème des variables locales. \n",
    "\n",
    "1. Définir une liste \"score\" qui contient seulement un 0 en début du code.\n",
    "\n",
    "2. Mettre cette liste comme argument dans la fonction que moi, j'ai appelé f. Et mettre la liste score comme valeurs par défaut. Exemple f(let, score = score)\n",
    "\n",
    "3. Modifier légèrement la fonction f pour faire en sorte que le score augmente d'1 quand une lettre présente dans la liste lettre (si la lettre est a l'écran) est tapée et qu'il diminue de 1 si la lettre n'est pas dans la liste lettre (si la lettre n'est pas à l'écran)\n",
    "\n",
    "4. Copier-coller la fonction d'affichage du score ci-dessous et la modifier pour l'adapter à votre code. \n",
    "\n",
    "5. Appeler cette fonction à la fin de la fonction f.\n"
   ]
  },
  {
   "cell_type": "code",
   "execution_count": null,
   "id": "77ab0db0",
   "metadata": {},
   "outputs": [],
   "source": [
    "def afficher_score():\n",
    "    turtle.clear()\n",
    "    turtle.goto(350,400)\n",
    "    turtle.write('Score: {}'.format(score[0]),align='center',font=('Courier',25,'normal'))\n",
    "    screen.update()"
   ]
  },
  {
   "cell_type": "markdown",
   "id": "2477b38d",
   "metadata": {},
   "source": [
    "## Gérer le game_over\n",
    "\n",
    "On va considérer que le jeu est perdu si une lettre arrive en bas de l'écran. \n",
    "Pour en rendre compte, il faut modifier légèrement la fonction afficher_lettre. À la fin de votre boucle sur les lettres, juste après avoir changer la position, vérifier que celle-ci est n'est pas en bas de l'écran. Si une lettre a atteint le bas, appeler la fonction afficher_game_over(), que vous pouvez copier-coller d'en-desssous et modifier à votre guise. À la fin de votre boucle if noter return. Ce return doit être dans la boucle if, il permet d'arréter le programme si vous avez perdu."
   ]
  },
  {
   "cell_type": "code",
   "execution_count": null,
   "id": "339a4475",
   "metadata": {},
   "outputs": [],
   "source": [
    "def afficher_game_over():\n",
    "    turtle.goto(0,0)\n",
    "    turtle.color('red')\n",
    "    turtle.write('GAME OVER', align='center', font=('Courier',50,'normal'))\n",
    "    turtle.goto(0,-150)\n",
    "    turtle.color('orange')\n",
    "    turtle.write('Your Score is {}'.format(score[0]), align='center', font=('Courier',40,'normal'))\n",
    "    screen.update()"
   ]
  },
  {
   "cell_type": "markdown",
   "id": "8d5df77f",
   "metadata": {},
   "source": [
    "## Aller plus loin\n",
    "\n",
    "Si vous avez le temps vous pouvez essayer de faire les choses suivantes: \n",
    "\n",
    "1. Modifier votre programme pour qu'il soit le plus beau possible\n",
    "\n",
    "2. Modifier les conditions du game_over pour qu'un nombre de points négatif correspondent à un game_over\n",
    "\n",
    "3. Faire en sorte que la difficulté augmente en fonction du score (exemple augmentation de la vitesse, augmentation du nombre de lettres) .. ."
   ]
  }
 ],
 "metadata": {
  "kernelspec": {
   "display_name": "Python 3 (ipykernel)",
   "language": "python",
   "name": "python3"
  },
  "language_info": {
   "codemirror_mode": {
    "name": "ipython",
    "version": 3
   },
   "file_extension": ".py",
   "mimetype": "text/x-python",
   "name": "python",
   "nbconvert_exporter": "python",
   "pygments_lexer": "ipython3",
   "version": "3.9.7"
  }
 },
 "nbformat": 4,
 "nbformat_minor": 5
}
