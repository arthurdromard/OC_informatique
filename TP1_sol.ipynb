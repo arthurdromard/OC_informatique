{
 "cells": [
  {
   "cell_type": "markdown",
   "id": "f6581136-bf8a-4825-b637-3ff4c9565c73",
   "metadata": {},
   "source": [
    "# TP numéro 1 : le jeu du Pendu\n",
    "\n",
    "Nous allons y aller pas à pas et de nouveaux éléments vont être présentés pendant le TP. Les plus expérimentés d'entre-vous peuvent sauter quelques étapes pour se consacrer du temps aux parties \"Aller plus loin\" \n",
    "\n",
    "## La boucle \"if\" \n",
    "\n",
    "### la boucle \"if\" toute simple \n",
    "\n",
    "Pour réaliser ce programme nous allons d'abord devoir introduire la boucle \"if\". La boucle permet de demander au programme de faire quelque chose uniquement si la condition est remplie. Exemple: si a = 2 alors affiche a. Qui en terme de code se traduit de la façon suivante:  "
   ]
  },
  {
   "cell_type": "code",
   "execution_count": 1,
   "id": "9c0cab71-55ef-41a5-95a4-96e576912359",
   "metadata": {},
   "outputs": [
    {
     "name": "stdout",
     "output_type": "stream",
     "text": [
      "2\n"
     ]
    }
   ],
   "source": [
    "a=2 # Ici on donne à \"a\" une valeur. \n",
    "if a==2: # On teste a ici\n",
    "    print(a) # On affiche a si il a réussi"
   ]
  },
  {
   "cell_type": "markdown",
   "id": "1ad67f73-d2cd-439c-8c65-9dc8ef5ec55a",
   "metadata": {},
   "source": [
    "Dans le mini programme ci-dessus, plusieurs choses à remarquer: \n",
    "\n",
    "1. \"a==2\", ici on teste si a est égale à 2. Il faut donc bien utiliser l'opérateur \"==\" sinon on change la valeur de a \n",
    "\n",
    "2. A la fin du test, on doit mettre \":\"\n",
    "\n",
    "3. La ligne en dessous du test est décalé. Elle est décalé de 4 espaces ou une tabulation. Le fait quelle soit décalé indique à l'ordinateur de faire cette ligne que si la condition  au dessus est vrai.(Remarque dans les bons interpréteurs, le renvoi à la ligne après \":\" crée directement le décalage pour vous)    \n",
    "\n",
    "*exercice*: Dans le programme ci-dessus, changer la valeur de a pour voir ce qui se passe. \n",
    "\n",
    "*exercice*: Créer dans le cadre ci-dessous, un mini programme qui affiche b si b est supérieur à 4. Tester-le avec différente valeur de b. "
   ]
  },
  {
   "cell_type": "code",
   "execution_count": 2,
   "id": "86f1df53-205e-478f-a117-acf04d118824",
   "metadata": {},
   "outputs": [
    {
     "name": "stdout",
     "output_type": "stream",
     "text": [
      "5\n"
     ]
    }
   ],
   "source": [
    "# Réaliser ici le mini-programme\n",
    "b=5\n",
    "if b > 4: \n",
    "    print(b)"
   ]
  },
  {
   "cell_type": "markdown",
   "id": "d1e0d9f6-5071-416b-b74d-e2dd3c6c22b1",
   "metadata": {},
   "source": [
    "### la boucle \"if-else\"\n",
    "\n",
    "La boucle \"if\" peut-être complétée par sa partie \"else\". Elle permet au programme de lui dire de faire autre chose si la première condition n'est pas respectée. \n",
    "\n",
    "Exemple: si a=2 alors affiche a sinon affiche \"Perdu\". En terme de code ça s'écrit de la façon suivante: "
   ]
  },
  {
   "cell_type": "code",
   "execution_count": 3,
   "id": "9917bc8b-fcd3-4982-8d21-96be3a88c976",
   "metadata": {},
   "outputs": [
    {
     "name": "stdout",
     "output_type": "stream",
     "text": [
      "Perdu\n"
     ]
    }
   ],
   "source": [
    "a=3\n",
    "if a==2: \n",
    "    print(a)\n",
    "else: \n",
    "    print(\"Perdu\")"
   ]
  },
  {
   "cell_type": "markdown",
   "id": "f80a552c-8d79-4902-a92a-2a6e75fda42f",
   "metadata": {},
   "source": [
    "On remarque la même structure que pour la partie \"if\", c'est à dire : \n",
    "\n",
    "1. les \":\" à la fin \n",
    "\n",
    "2. Le décalage est là. \n",
    "\n",
    "*exercice*: Créer dans le cadre ci-dessous, un mini programme qui affiche \"b est supérieur à 4\" quand b>4 et \"b est inférieur ou égale à 4\" dans le cas contraire.  "
   ]
  },
  {
   "cell_type": "code",
   "execution_count": 4,
   "id": "d41d0bae-8363-4aca-b426-7e77c9411ddf",
   "metadata": {},
   "outputs": [
    {
     "name": "stdout",
     "output_type": "stream",
     "text": [
      "b est supérieur à 4\n"
     ]
    }
   ],
   "source": [
    "b=5\n",
    "if b > 4: \n",
    "    print(\"b est supérieur à 4\")\n",
    "else: \n",
    "    print(\"b est inférieur ou égale à 4\")"
   ]
  },
  {
   "cell_type": "markdown",
   "id": "1435e7fa-3906-48ba-a00c-ef512efadedb",
   "metadata": {},
   "source": [
    "### La boucle \"if-elif\"\n",
    "\n",
    "Une autre façon de compléter la boucle \"if\" est sa partie \"elif\". Elle permet au programme de lui dire de faire autre chose si la première condition n'est pas respectée mais seulement si une autre condition est respectée. \n",
    "\n",
    "Exemple, si a>2 alors affiche \"trop grand\" sinon si a<2 alors affiche \"trop petit\". En terme de code, cela donne: "
   ]
  },
  {
   "cell_type": "code",
   "execution_count": 5,
   "id": "0c8979e2-f927-4862-a0e1-2becd870b78b",
   "metadata": {},
   "outputs": [
    {
     "name": "stdout",
     "output_type": "stream",
     "text": [
      "trop grand\n"
     ]
    }
   ],
   "source": [
    "a=3\n",
    "if a>2: \n",
    "    print(\"trop grand\")\n",
    "elif a<2: \n",
    "    print(\"trop petit\")"
   ]
  },
  {
   "cell_type": "markdown",
   "id": "38afe53b-bbd7-42db-930e-8ccbd94cc9b4",
   "metadata": {},
   "source": [
    "Plusieurs remarques:\n",
    "\n",
    "1) la structure est la même.\n",
    "\n",
    "2) On peut rajouter autant de \"elif\" que l'on veut. \n",
    "\n",
    "3) On peut compléter le programme par une partie \"else\" qui sera executée uniquement si toutes les conditions ci-dessus ne sont pas exécutées. \n"
   ]
  },
  {
   "cell_type": "markdown",
   "id": "b4c53791-dd4e-4195-8ade-5025faae0e21",
   "metadata": {},
   "source": [
    "## Le jeu des devinettes n°1 \n",
    "\n",
    "L'idée est de créer un petit jeu où l'on doit essyer de deviner un nombre. Pour l'instant, nous n'avons qu'une seule tentative pour y arriver. Pour faire cette fonction, j'ai déjà créé le début du code qui permet d'obtenir un nombre aléatoire (voir le cadre ci-dessous): \n",
    "\n",
    "1. La partie import random permet d'importer des fonctions de la bibliothèque \"random\" permettant de générer des nombres aléatoires\n",
    "\n",
    "2. random.randint(0,10) est une fonction de \"random\" comme l'indique le \"random.\" au début du nom. Elle permet de générer un nombre aléatoire entre 0 et 10. (le 0 et 10 peuvent être modifiés en changeant les arguments de la fonction)\n",
    "\n",
    "**Etape 1** : Créer un mini programme qui: \n",
    "\n",
    "1. demande à l'utilisateur un nombre entre 0 et 10\n",
    "\n",
    "2. le compare au nombre aléatoire. Il doit préciser si le nombre choisi est \"trop grand\", \"trop petit\" ou dire bravo si c'est bon. \n",
    "\n",
    "3. le programme doit afficher à la fin le nombre qui aurait du être deviné.\n"
   ]
  },
  {
   "cell_type": "code",
   "execution_count": 6,
   "id": "4d24b88a-6a1a-41e5-b276-fa42e60c6ffc",
   "metadata": {},
   "outputs": [
    {
     "name": "stdin",
     "output_type": "stream",
     "text": [
      "Entrez un nombre entre 0 et 10 7\n"
     ]
    },
    {
     "name": "stdout",
     "output_type": "stream",
     "text": [
      "trop grand\n"
     ]
    }
   ],
   "source": [
    "import random\n",
    "\n",
    "rnd=random.randint(0,10) # Crée un nombre entier aléatoire entre 0 et 10 \n",
    "\n",
    "nbr= int(input(\"Entrez un nombre entre 0 et 10\"))\n",
    "\n",
    "if nbr>rnd:\n",
    "    print(\"trop grand\")\n",
    "elif nbr<rnd:\n",
    "    print(\"trop petit\")\n",
    "else: \n",
    "    print(\"Bravo\")\n"
   ]
  },
  {
   "cell_type": "markdown",
   "id": "65d30240-d967-4dd0-b500-591a78b01c1d",
   "metadata": {},
   "source": [
    "## Le jeu des devinettes n°2\n",
    "\n",
    "Cette fois-ci nous voulons avoir plusieurs chances. On va donc utiliser la boucle \"while\" (tant que). \n",
    "\n",
    "### La boucle \"While\" \n",
    "\n",
    "Une boucle While est une boucle qui se répète tant qu'une condition n'est pas réalisée. Elle se traduit de la manière suivante: tant que \"condition\" n'est pas réalisée, fait cela.\n",
    "\n",
    "Exemple: Tant que i n'est pas égal à 10 alors ajoute 1 à i et affiche i. En terme de code, celà s'écrit de la façon suivante: \n"
   ]
  },
  {
   "cell_type": "code",
   "execution_count": 7,
   "id": "b30b6294-7398-44f1-921c-8c528fe4a5f6",
   "metadata": {
    "tags": []
   },
   "outputs": [
    {
     "name": "stdout",
     "output_type": "stream",
     "text": [
      "1\n",
      "2\n",
      "3\n",
      "4\n",
      "5\n",
      "6\n",
      "7\n",
      "8\n",
      "9\n",
      "10\n"
     ]
    }
   ],
   "source": [
    "i=0\n",
    "while i!=10:\n",
    "    i=i+1\n",
    "    print(i)"
   ]
  },
  {
   "cell_type": "markdown",
   "id": "71dcc91c-41a6-4ff4-9d4d-2a3f13240f7b",
   "metadata": {},
   "source": [
    "Il y a des choses importantes à remarquer:\n",
    "\n",
    "1. La structure est la même que pour la boucle \"if\". Les \":\" après la condition et le décalage dans la ou les lignes suivantes. \n",
    "\n",
    "2. C'est important d'initialiser la valeur de i. (le \"i=0\" dans la premiêre ligne de code). Si ce n'est pas fait, on ne connait pas la valeur de i et si celle-ci est supérieur à 10  alors le programme tourne à l'infini. \n",
    "\n",
    "**Attention aux boucles infinies**: Les boucles \"while\" sont dangereuses car elles peuvent entraîner des boucles infinies dans le programme. Dans ce cas là, le programme ne termine jamais. Vérifier donc que votre programme termine.\n",
    "\n",
    "*Exercice*: faite un programme dans le cadres ci-dessous qui part de 10 et affiche tous les entiers entre 10 et 0 par ordre décroissant. "
   ]
  },
  {
   "cell_type": "code",
   "execution_count": 8,
   "id": "cc62e19f-2ea9-474d-9ad6-6d019f6f2c48",
   "metadata": {},
   "outputs": [
    {
     "name": "stdout",
     "output_type": "stream",
     "text": [
      "9\n",
      "8\n",
      "7\n",
      "6\n",
      "5\n",
      "4\n",
      "3\n",
      "2\n",
      "1\n",
      "0\n"
     ]
    }
   ],
   "source": [
    "i=10\n",
    "while i!=0:\n",
    "    i=i-1\n",
    "    print(i)\n",
    "        "
   ]
  },
  {
   "cell_type": "markdown",
   "id": "d4f91297-2bc4-4af9-98ef-634306c56062",
   "metadata": {},
   "source": [
    "**Etapes 2**: Utilisez une boucle While et reprennez le code du jeu de devinette 1 pour que l'on puisse avoir jusqu'à 10 essais. Programmer-le dans le cadre ci-dessous\n",
    "\n",
    "1. Le programme affichera \"bravo\" quand le nombre est trouvé et donnera le nombre d'essais.\n",
    "\n",
    "2. En cas d'échec le programme donnera une indication si le nombre donné est plus grand ou plus petit que le nombre à deviner et donnera le nombre d'essais restants.  \n",
    "\n",
    "3. En cas d'échec au bout des 10 tentatives, le programme affichera \"Perdu, essaie encore!\" \n",
    "\n",
    "**Etapes 3 : Aller plus loin**: Améliorer votre programme. \n",
    "\n",
    "1. Faire en sorte que vous puissiez choisir un mode facile (avec les indications trop grand / trop petit) ou un mode difficile (sans indications)\n",
    "\n",
    "2. Faire en sorte que l'utilisateur puisse choisir l'interval pour le nombre aléatoire et pas se limiter à 0 et 10 \n",
    "\n",
    "3. Faire en sorte que l'utilisateur puisse choisir le nombre d'essais\n",
    "\n",
    "4. Essayer de mettre au point un système de points en fonction de la difficulté, de l'intervalle et du nombre d'essais utilisés. "
   ]
  },
  {
   "cell_type": "code",
   "execution_count": 9,
   "id": "fc28ee08-c589-44d3-a4cb-fb9af1e323b8",
   "metadata": {},
   "outputs": [
    {
     "name": "stdin",
     "output_type": "stream",
     "text": [
      "donner un nombre entre 1 et 10 5\n"
     ]
    },
    {
     "name": "stdout",
     "output_type": "stream",
     "text": [
      "trop grand, il vous reste  9  essais\n"
     ]
    },
    {
     "name": "stdin",
     "output_type": "stream",
     "text": [
      "donner un nombre entre 1 et 10 4\n"
     ]
    },
    {
     "name": "stdout",
     "output_type": "stream",
     "text": [
      "trop grand, il vous reste  8  essais\n"
     ]
    },
    {
     "name": "stdin",
     "output_type": "stream",
     "text": [
      "donner un nombre entre 1 et 10 4\n"
     ]
    },
    {
     "name": "stdout",
     "output_type": "stream",
     "text": [
      "trop grand, il vous reste  7  essais\n"
     ]
    },
    {
     "name": "stdin",
     "output_type": "stream",
     "text": [
      "donner un nombre entre 1 et 10 4\n"
     ]
    },
    {
     "name": "stdout",
     "output_type": "stream",
     "text": [
      "trop grand, il vous reste  6  essais\n"
     ]
    },
    {
     "name": "stdin",
     "output_type": "stream",
     "text": [
      "donner un nombre entre 1 et 10 42\n"
     ]
    },
    {
     "name": "stdout",
     "output_type": "stream",
     "text": [
      "trop grand, il vous reste  5  essais\n"
     ]
    },
    {
     "name": "stdin",
     "output_type": "stream",
     "text": [
      "donner un nombre entre 1 et 10 2\n"
     ]
    },
    {
     "name": "stdout",
     "output_type": "stream",
     "text": [
      "trop petit, il vous reste  4  essais\n"
     ]
    },
    {
     "name": "stdin",
     "output_type": "stream",
     "text": [
      "donner un nombre entre 1 et 10 3\n"
     ]
    },
    {
     "name": "stdout",
     "output_type": "stream",
     "text": [
      "Bravo, vous avez réussi en  7  essais\n",
      "Le nombre était 3\n"
     ]
    }
   ],
   "source": [
    "import random\n",
    "\n",
    "rnd=random.randint(0,10)\n",
    "success= False \n",
    "essai = 10\n",
    "while essai>0 and not success: \n",
    "    essai -= 1 \n",
    "    a=int(input(\"donner un nombre entre 1 et 10\")) \n",
    "    if a>rnd:\n",
    "        print(\"trop grand, il vous reste \", essai,\" essais\")\n",
    "    elif a<rnd: \n",
    "        print(\"trop petit, il vous reste \", essai,\" essais\")\n",
    "    else: \n",
    "        success=True\n",
    "        print(\"Bravo, vous avez réussi en \", 10-essai,\" essais\")\n",
    "        \n",
    "print(\"Le nombre était\", rnd) "
   ]
  },
  {
   "cell_type": "markdown",
   "id": "4d3e26ef-51e0-4648-a70e-49075d709863",
   "metadata": {},
   "source": [
    "## Le jeu du pendu \n",
    "\n",
    "Dans cette partie nous allons faire un jeu du pendu relativement simple. C'est à dire que l'on va simplifier les règles de façon à pouvoir le coder avec ce que l'on connaît déjà. \n",
    "On va donc chercher des mots de 6 lettres uniquement avec 5 échecs. Le mot sera donné dans le programme et il ne comportera que des lettres différentes (exemple : CHEVAL). \n",
    "\n",
    "### Éléments sur les chaines \n",
    "\n",
    "Avant de commencer, il faut que l'on apprenne différents éléments sur les chaines de caractères. Ici, \"chaine\" est le nom de la variable qui correspond â ma chaine de caractères.   \n",
    "\n",
    "1) Afficher une caractère à la position i: chaine[i] \n",
    "2) Afficher le début d'un mot jusqu'au ième caractère: chaine[:i]\n",
    "3) Afficher la fin d'un mot à partir du ième caractère: chaine[i:]\n",
    "4) Afficher les caractêres d'une chaine entre la position i et j : chaine[i:j]\n",
    "5) Coller deux chaine de caractères (chaine1 et chaines 2) : chaine1+chaine2\n",
    "\n",
    "*Exercice:* Essayer les éléments précédents"
   ]
  },
  {
   "cell_type": "code",
   "execution_count": null,
   "id": "e2e8aaea-594c-4f38-8a32-3e2ddbf465ba",
   "metadata": {},
   "outputs": [],
   "source": []
  },
  {
   "cell_type": "markdown",
   "id": "28a98eac-fde4-45ed-b334-557b44f72fda",
   "metadata": {},
   "source": [
    "6) Il n'est pas possible de changer un caractère au milieu de la chaine facilement. Pour se faire on est obligé de le faire en étape: \n",
    "    1) enregistrer le début de la chaine avant le caractère dans une autre variable\n",
    "    2) enregistrer la fin de la chaine après le caractère dans un troisième variable\n",
    "    3) concatener, le début de la chaine, le nouveau caractère et la fin de la chaine\n",
    "    \n",
    "*Exercice:*\n",
    "Changer le D de \"RADEAU\" en T pour faire \"RATEAU\" dans le code suivant: "
   ]
  },
  {
   "cell_type": "code",
   "execution_count": 10,
   "id": "46c5577e-d659-4b77-99a4-f6d2fe8555a9",
   "metadata": {},
   "outputs": [
    {
     "name": "stdout",
     "output_type": "stream",
     "text": [
      "RATEAU\n"
     ]
    }
   ],
   "source": [
    "mot=\"RADEAU\"\n",
    "pos=2\n",
    "deb=mot[0:pos]\n",
    "fin=mot[pos+1:]\n",
    "mot=deb+\"T\"+fin\n",
    "print(mot)\n"
   ]
  },
  {
   "cell_type": "markdown",
   "id": "0f10622a-da25-4240-9bd4-795ea6a362b6",
   "metadata": {},
   "source": [
    "### fonctions utiles\n",
    "\n",
    "1) La fonction upper() permet de transformer une chaine de carcactère en la même chaine mais écrit en majuscule: \n",
    "  exemple:"
   ]
  },
  {
   "cell_type": "code",
   "execution_count": 11,
   "id": "b7fb86eb-d2d9-4fd4-9a70-f3d148929e05",
   "metadata": {},
   "outputs": [
    {
     "name": "stdout",
     "output_type": "stream",
     "text": [
      "A\n"
     ]
    }
   ],
   "source": [
    "lettre= \"a\"\n",
    "lettre=lettre.upper()\n",
    "print(lettre) # cela va afficher A"
   ]
  },
  {
   "cell_type": "markdown",
   "id": "4be90ba4-9c10-4e2a-9faa-2338c4b5dc2d",
   "metadata": {},
   "source": [
    "2) La fonction find() permet de trouver la position d'une lettre dans un mot. \n",
    "    exemple: "
   ]
  },
  {
   "cell_type": "code",
   "execution_count": 12,
   "id": "886461e7-c2fc-46ab-bb30-a86dfe38b628",
   "metadata": {},
   "outputs": [
    {
     "name": "stdout",
     "output_type": "stream",
     "text": [
      "4\n"
     ]
    }
   ],
   "source": [
    "mot= \"CHEVAL\"\n",
    "pos=mot.find(\"A\")\n",
    "print(pos) # cela va afficher 4"
   ]
  },
  {
   "cell_type": "markdown",
   "id": "4a2fabaf-e49c-4d22-9f8a-35576bf038a6",
   "metadata": {},
   "source": [
    "*Exercice:* \n",
    "Essayer les codes de la fonction upper et find "
   ]
  },
  {
   "cell_type": "code",
   "execution_count": null,
   "id": "03263c61-a46c-4f6f-b3eb-243a624b3f68",
   "metadata": {},
   "outputs": [],
   "source": [
    " "
   ]
  },
  {
   "cell_type": "markdown",
   "id": "eb3a742e-1dbf-4b1b-9499-0ad11078dab6",
   "metadata": {},
   "source": [
    "### Création du code\n",
    "\n",
    "Voilà les objectifs de votre code: \n",
    "\n",
    "1) Au démarrage, le jeu affiche \"Jeu du pendu\"\n",
    "2) Demander au joueur une lettre. \n",
    "3) Au premier essai:\n",
    "    1) Si la lettre n'est pas présente, afficher \"# # # # # #\":  les dièses représentant les lettres inconnues. Réduire le nombre d'échec de 1 et afficher le nombre d'échecs restant.\n",
    "    2) Si la lettre est présente dans le mot l'afficher (exemple pour le A): \"# # # # A #\" \n",
    "5) À chaque autre essai: \n",
    "    1) Si la lettre n'est pas trouvé, afficher le mot avec des dièses aux endroits non trouvé (ex: si C et A on été trouvé et que la personne dit X alors on affiche \"C # # # A #\")  et on déduit les échecs de 1. \n",
    "    2) Si une nouvelle lettre est trouvée, afficher le mot en dévoilant la nouvelle lettre. \n",
    "6) Si le mot est trouvé : Afficher \"Gagné\"\n",
    "7) Si les échecs arrive à 0 : Afficher \" Perdue\". \n",
    "\n",
    "Aides: \n",
    "\n",
    "1) Traiter uniquement des majuscule. \n",
    "3) Allez-y étape par étape pour faire le code."
   ]
  },
  {
   "cell_type": "code",
   "execution_count": 13,
   "id": "afcb2772-5499-4751-b22f-03a1db482f95",
   "metadata": {},
   "outputs": [
    {
     "name": "stdin",
     "output_type": "stream",
     "text": [
      "Entrer une lettre C\n"
     ]
    },
    {
     "name": "stdout",
     "output_type": "stream",
     "text": [
      "C # # # # #\n"
     ]
    },
    {
     "name": "stdin",
     "output_type": "stream",
     "text": [
      "Entrer une lettre H\n"
     ]
    },
    {
     "name": "stdout",
     "output_type": "stream",
     "text": [
      "C H # # # #\n"
     ]
    },
    {
     "name": "stdin",
     "output_type": "stream",
     "text": [
      "Entrer une lettre E\n"
     ]
    },
    {
     "name": "stdout",
     "output_type": "stream",
     "text": [
      "C H E # # #\n"
     ]
    },
    {
     "name": "stdin",
     "output_type": "stream",
     "text": [
      "Entrer une lettre V\n"
     ]
    },
    {
     "name": "stdout",
     "output_type": "stream",
     "text": [
      "C H E V # #\n"
     ]
    },
    {
     "name": "stdin",
     "output_type": "stream",
     "text": [
      "Entrer une lettre A\n"
     ]
    },
    {
     "name": "stdout",
     "output_type": "stream",
     "text": [
      "C H E V A #\n"
     ]
    },
    {
     "name": "stdin",
     "output_type": "stream",
     "text": [
      "Entrer une lettre L\n"
     ]
    },
    {
     "name": "stdout",
     "output_type": "stream",
     "text": [
      "C H E V A L\n",
      "Gagné\n"
     ]
    }
   ],
   "source": [
    "mot=\"C H E V A L\"\n",
    "echec=5\n",
    "mot_tmp=\"# # # # # #\"\n",
    "\n",
    "while echec > 0 and mot_tmp != mot:\n",
    "    essai=input(\"Entrer une lettre\")\n",
    "    essai=essai.upper()\n",
    "    pos=mot.find(essai)\n",
    "    if pos < 0: # si la lettre n'est pas dans le mot \n",
    "        echec-=1\n",
    "        #print(mot_tmp)\n",
    "        print(\" echecs restant:\", echec)\n",
    "    else:  # si elle l'est afficher la dans le mot_tmp\n",
    "        deb=mot_tmp[0:pos]\n",
    "        fin=mot_tmp[pos+1:]\n",
    "        mot_tmp=deb+essai+fin\n",
    "        print(mot_tmp)\n",
    "\n",
    "if echec==0: \n",
    "    print(\"Perdu, le mot était:\", mot)\n",
    "else:\n",
    "    print(\"Gagné\")"
   ]
  },
  {
   "cell_type": "markdown",
   "id": "ca56f8d1-b4f3-4a2d-8eab-fbafd43d324f",
   "metadata": {},
   "source": [
    "## Allez plus loin \n",
    "\n",
    "Le but est maintenant de faire un vrai pendu. Pour celà, il va falloir faire appelle à un dictionnaire et prendre un mot au hasard. Le fichier dictionnaire est fourni et le code permettant de tirer un mot au hasard de se dictionnaire est mis dans le cadre ci-dessous. \n",
    "\n",
    "Attention: votre code va changer sur plusieurs points, il faut gérer: \n",
    "\n",
    "   1) Le fait qu'il peut y avoir des lettres qui apparaissent plusieurs fois \n",
    "   \n",
    "   2) La longueur des mots n'est pas connue. \n",
    "   \n",
    "   la fonction \"len()\" permettre de connaître la longueur d'une chaine de caractère.\n",
    "\n"
   ]
  },
  {
   "cell_type": "code",
   "execution_count": 14,
   "id": "b8e7f610-7bb4-4112-8e44-2df10c85f427",
   "metadata": {},
   "outputs": [
    {
     "name": "stdout",
     "output_type": "stream",
     "text": [
      "###########\n"
     ]
    },
    {
     "name": "stdin",
     "output_type": "stream",
     "text": [
      "Entrer une lettre A\n"
     ]
    },
    {
     "name": "stdout",
     "output_type": "stream",
     "text": [
      " echecs restant: 7\n",
      "###########\n"
     ]
    },
    {
     "name": "stdin",
     "output_type": "stream",
     "text": [
      "Entrer une lettre E\n"
     ]
    },
    {
     "name": "stdout",
     "output_type": "stream",
     "text": [
      "##E###E#E##\n"
     ]
    },
    {
     "name": "stdin",
     "output_type": "stream",
     "text": [
      "Entrer une lettre I\n"
     ]
    },
    {
     "name": "stdout",
     "output_type": "stream",
     "text": [
      " echecs restant: 6\n",
      "##E###E#E##\n"
     ]
    },
    {
     "name": "stdin",
     "output_type": "stream",
     "text": [
      "Entrer une lettre O\n"
     ]
    },
    {
     "name": "stdout",
     "output_type": "stream",
     "text": [
      " echecs restant: 5\n",
      "##E###E#E##\n"
     ]
    },
    {
     "name": "stdin",
     "output_type": "stream",
     "text": [
      "Entrer une lettre U\n"
     ]
    },
    {
     "name": "stdout",
     "output_type": "stream",
     "text": [
      " echecs restant: 4\n",
      "##E###E#E##\n"
     ]
    },
    {
     "name": "stdin",
     "output_type": "stream",
     "text": [
      "Entrer une lettre S\n"
     ]
    },
    {
     "name": "stdout",
     "output_type": "stream",
     "text": [
      " echecs restant: 3\n",
      "##E###E#E##\n"
     ]
    },
    {
     "name": "stdin",
     "output_type": "stream",
     "text": [
      "Entrer une lettre R\n"
     ]
    },
    {
     "name": "stdout",
     "output_type": "stream",
     "text": [
      "#RE###ERE##\n"
     ]
    },
    {
     "name": "stdin",
     "output_type": "stream",
     "text": [
      "Entrer une lettre T\n"
     ]
    },
    {
     "name": "stdout",
     "output_type": "stream",
     "text": [
      "TRE###ERE#T\n"
     ]
    },
    {
     "name": "stdin",
     "output_type": "stream",
     "text": [
      "Entrer une lettre M\n"
     ]
    },
    {
     "name": "stdout",
     "output_type": "stream",
     "text": [
      "TREM##ERE#T\n"
     ]
    },
    {
     "name": "stdin",
     "output_type": "stream",
     "text": [
      "Entrer une lettre B\n"
     ]
    },
    {
     "name": "stdout",
     "output_type": "stream",
     "text": [
      "TREMB#ERE#T\n"
     ]
    },
    {
     "name": "stdin",
     "output_type": "stream",
     "text": [
      "Entrer une lettre L\n"
     ]
    },
    {
     "name": "stdout",
     "output_type": "stream",
     "text": [
      "TREMBLERE#T\n"
     ]
    },
    {
     "name": "stdin",
     "output_type": "stream",
     "text": [
      "Entrer une lettre N\n"
     ]
    },
    {
     "name": "stdout",
     "output_type": "stream",
     "text": [
      "TREMBLERENT\n",
      "Gagné\n"
     ]
    }
   ],
   "source": [
    "import random\n",
    "fichier = open('dico.txt') # ouvre le fichier dico\n",
    "list_mots = fichier.read().splitlines() # fait une liste avec l'ensemble des mots du fichiers\n",
    "mot = random.choice(list_mots).upper() # sélection aléatoire du mot\n",
    "\n",
    "echec=8 #Nombre d'échecs possible\n",
    "\n",
    "mot_tmp = \"#\"*len(mot) # attribue à mot_tmp le nombre de dièse correspondant au nombre de lettres du mot à deviner.\n",
    "print(mot_tmp)\n",
    "\n",
    "while echec > 0 and mot_tmp != mot: # tant qu'on a pas perdu ou trouvé le mot \n",
    "    essai=input(\"Entrer une lettre\")\n",
    "    essai=essai.upper() # s'assure que tout soit en majuscule pour simplifier les comparaisons\n",
    "    pos=mot.find(essai) #trouve la position de la lettre\n",
    "    if pos < 0: # Si la lettre n'est pas dans le mot\n",
    "        echec-=1\n",
    "        print(\" echecs restant:\", echec)\n",
    "    else: # Il faut gérer le cas où la lettre arrive plusieur fois dans le mots\n",
    "        deb=mot_tmp[0:pos]  \n",
    "        fin=mot_tmp[pos+1:]\n",
    "        mot_tmp=deb+essai+fin # remplace mot_tmp avec les lettres trouvées\n",
    "        pos_tmp=pos\n",
    "        pos=mot[pos_tmp+1:].find(essai) # trouve la deuxième occurence\n",
    "        while pos >=0: # si la deuxième existe alors on la met dans mot_tmp    \n",
    "            pos_tmp=pos+pos_tmp+1\n",
    "            deb=mot_tmp[0:pos_tmp] # affiche les autres occurences de la lettre. \n",
    "            fin=mot_tmp[pos_tmp+1:]\n",
    "            mot_tmp=deb+essai+fin \n",
    "            pos=mot[pos_tmp+1:].find(essai) # calcul la nouvelle position \n",
    "    print(mot_tmp)\n",
    "\n",
    "if echec==0: \n",
    "    print(\"Perdu, le mot était:\", mot)\n",
    "else:\n",
    "    print(\"Gagné\")"
   ]
  },
  {
   "cell_type": "code",
   "execution_count": null,
   "id": "2ab8f3e4-304f-4886-a4ee-3b43cdf4007e",
   "metadata": {},
   "outputs": [],
   "source": []
  }
 ],
 "metadata": {
  "kernelspec": {
   "display_name": "Python 3 (ipykernel)",
   "language": "python",
   "name": "python3"
  },
  "language_info": {
   "codemirror_mode": {
    "name": "ipython",
    "version": 3
   },
   "file_extension": ".py",
   "mimetype": "text/x-python",
   "name": "python",
   "nbconvert_exporter": "python",
   "pygments_lexer": "ipython3",
   "version": "3.9.5"
  }
 },
 "nbformat": 4,
 "nbformat_minor": 5
}
