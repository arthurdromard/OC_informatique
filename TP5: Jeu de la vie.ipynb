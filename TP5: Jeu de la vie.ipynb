{
 "cells": [
  {
   "cell_type": "markdown",
   "id": "1c9fe50c",
   "metadata": {},
   "source": [
    "# Jeu de la vie\n",
    "\n",
    "L'ensemble du code sera à faire sur la dernière cellule. On reportera peu à peu les codes après les tests effectués. Vous pouvez aussi utiliser un document indépendant pour mettre le code.  \n",
    "\n",
    "## Description\n",
    "\n",
    "Le jeu de la vie n'est pas un jeu réel, il représente comment un organisme simple peut évoluer en des organismes plus complexes et ceux même si les règles d'évolution sont extrêment simples. Nous les verrons tout à l'heure. \n",
    "\n",
    "Il s'agit en réalité d'un automate numérique qui a été dévellopé par Conway en 1970 et est toujours étudié de nos jours. Les organismes sont représentés par des points de couleur qui s'allument ou s'éteignent en fonction de règles simples.\n",
    "\n",
    "La programation de ce dernier est relativement simple et c'est ce que nous allons faire aujourd'hui. \n",
    "\n",
    "On va utiliser une librairie qui s'appelle tkinter pour afficher nos cases. Elle est mieux supportée que Turtle et permet d'avantage de choses. À la fin du document, je vous ai mis le code qui permet de créer la fenêtre sur laquelle on va jouer. \n",
    "\n",
    "## Étape 1 : Construire et afficher le jeu. \n",
    "\n",
    "### Construire la grille\n",
    "\n",
    "Pour l'instant nous avons fixé la taille à 600 cases par 600 cases.\n",
    "\n",
    "1. Créer une grille (une liste de liste) dans le cadre ci-dessous, initialisée à 0 qui permet de stocker de 10x10 cases.\n",
    "\n",
    "2. Remplissez aléatoirement votre grille. Pour cela tirer aléatoirement (à l'aide de la fonction random.randint(debut, fin)) des coordonnées x et y entre 0 et 9 compris et mettre un 1 (un organisme vivant) au point correspondant aux coordonnées. Utiliser une boucle for pour effectuer 50 tirages aléatoires. Ce n'est pas grave si vous retirez une même coordonnée. \n",
    "\n",
    "3. Imprimer votre liste, pour vérifier que tout fonctionne correctement. \n",
    "\n",
    "4. Copier-coller votre code dans le programme et changer la taille de grille en passant de 10 à 60. Ne pas oublier de changer aussi les bornes du tirages aléatoire. \n",
    "\n"
   ]
  },
  {
   "cell_type": "code",
   "execution_count": null,
   "id": "18d36bd3",
   "metadata": {},
   "outputs": [],
   "source": [
    "## Création de la liste et remplissage"
   ]
  },
  {
   "cell_type": "markdown",
   "id": "8f7164d3",
   "metadata": {},
   "source": [
    "### fonction d'affichage.\n",
    "\n",
    "Pour chaque organisme, nous allons afficher un carré de 10 pixel de cotés. Il s'agit ici, de créer la fonction d'affichage:\n",
    "\n",
    "1. Créer une fonction nommée \"Affiche\"\n",
    "\n",
    "2. Sur la première ligne mettre la fonction \"canvas.delete(\"all\")\" qui permet de nettoyer l'ensemble de la fenêtre d'affichage et de répartir sur une fenêtre vierge\n",
    "\n",
    "3. Pour l'ensemble des points de votre grille, dessiner un carré rouge si il y a un organisme. Vous dessinerez le carré à l'aide de la fonction: \"canvas.create_rectangle(xi,yi,xf,yf,fill=\"red\")\" où xi est le début du carré sur l'axe x, yi est le début du carré sur l'axe y, xf la fin du carré sur l'axe x et yf est la fin du carré sur l'axe y. \"red\" donne la couleur rouge.\n",
    "\n",
    "Attention: n'oublier pas qu'un organisme doit faire 10 pixels\n",
    "\n",
    "4. Copier-coller votre fonction dans le programme avant la fonction PROG et décommenter l'appelle à la fonction affiche dans la fonction PROG. Tester votre programme\n"
   ]
  },
  {
   "cell_type": "code",
   "execution_count": null,
   "id": "ce2c2513",
   "metadata": {},
   "outputs": [],
   "source": [
    "## créer la fonction affichage ici"
   ]
  },
  {
   "cell_type": "markdown",
   "id": "7a036c3f",
   "metadata": {},
   "source": [
    "## Évolution\n",
    "\n",
    "L'évolution va dépendre du nombre de voisins que possèdent un organisme, on va donc devoir créer une fonction qui compte les voisins d'un points. \n",
    "\n",
    "### fonction compte_voisins\n",
    "\n",
    "Un voisin est défini comme une case qui touche celle que l'on a. C'est à dire la case à gauche, à doite, au dessus, en dessous mais aussi en diagonale. \n",
    "\n",
    "Écrire une fonction qui prend comme argument les coordonées x,y d'un point et retourne le nombre de voisins. \n"
   ]
  },
  {
   "cell_type": "code",
   "execution_count": null,
   "id": "6b87b4d1",
   "metadata": {},
   "outputs": [],
   "source": [
    "## fonction compte_voisins"
   ]
  },
  {
   "cell_type": "markdown",
   "id": "f8374233",
   "metadata": {},
   "source": [
    "### fonction évolution\n",
    "\n",
    "Nous allons maintenant nous attaquer à la partie centrale du problème, l'évolution de nos organismes. Les règles sont les suivantes: \n",
    "\n",
    "1. Une case qui n'a pas d'organisme mais qui a exactements 3 voisins donne naissance à un organisme. \n",
    "\n",
    "2. Un organisme qui a 2 ou 3 voisins survie. \n",
    "\n",
    "3. Dans tous les autres cas, l'organisme meurt. \n",
    "\n",
    "Pour faire cette fonction nous allons y aller en plusieurs étapes: \n",
    "\n",
    "1. Créer une deuxième grille que vous initialiserez à 0. \n",
    "\n",
    "2. Pour chaque point de la grille, compter le nombre de voisins grâce à la fonction précédente et remplissez la deuxième grille en fonction des règles données. \n",
    "\n",
    "3. Recopier la nouvelle grille dans l'ancienne. \n",
    "\n",
    "Remarque: vous ne pouvez pas modifier la première grille directement car vous allez changer le nombre de voisins. \n",
    "\n",
    "Copier-coller votre fonction dans le programme final après l'avoir testée. Décommenter la fonction Evolution dans la fonction PROG. Et tester votre programme. "
   ]
  },
  {
   "cell_type": "code",
   "execution_count": null,
   "id": "e05044d7",
   "metadata": {},
   "outputs": [],
   "source": [
    "## fonction évolution"
   ]
  },
  {
   "cell_type": "markdown",
   "id": "c9e119be",
   "metadata": {},
   "source": [
    "## Programme complet"
   ]
  },
  {
   "cell_type": "code",
   "execution_count": null,
   "id": "1bcfcfdd",
   "metadata": {},
   "outputs": [],
   "source": [
    "# JEU DE LA VIE\n",
    "from tkinter import Tk, Canvas\n",
    "import random\n",
    "TAILLE = 600\n",
    "\n",
    "## Mettre votre code ICI (après l'avoir tester)\n",
    "\n",
    "def PROG() :\n",
    "    ## Affiche()\n",
    "    ## Evolution()\n",
    "    Mafenetre.after(100,PROG)\n",
    "\n",
    "# Création de la fenêtre de dessin\n",
    "Mafenetre = Tk()\n",
    "Mafenetre.geometry(str(TAILLE) +\"x\"+str(TAILLE))\n",
    "canvas = Canvas(Mafenetre,width=TAILLE, height=TAILLE, borderwidth=0, highlightthickness=0,bg=\"lightgray\")\n",
    "canvas.pack()\n",
    "Mafenetre.after(100,PROG)\n",
    "Mafenetre.mainloop()"
   ]
  },
  {
   "cell_type": "markdown",
   "id": "0ac0d234",
   "metadata": {},
   "source": [
    "# TP : seconde Partie\n",
    "\n",
    "## Afficher le numéro de la génération et le nombre de carrés\n",
    "\n",
    "Nous avons besoin de créer une liste avec 2 éléments qui seront le numéro de la génération et le nombre de carrés. \n",
    "Créer et initialiser cette liste à 0 pour ces deux entrées. \n",
    "\n",
    "1. Pour compter le nombre de carré, il suffit d'ajouter 1 au nombre de carrés à chaque fois qu'on en affiche un (donc dans la fonction affiche()). Il faut ensuite le remettre à 0 après avoir afficher la fenêtre donc à la fin de la fonction PROG. \n",
    "\n",
    "2. Pour compter le nombre de génération, il suffit de compter le nombre de fois que l'on appelle la fonction PROG donc de rajouter 1 au nombre de génération au début de la fonction prog\n",
    "\n",
    "3. Pour afficher les nombres, nous allons créer une nouvelle fonction: nombre qui prendra comme argument le nombre de génération et le nombre de carré. Cette fonction utilisera la ligne suivante où x,y sont les coordonnées du centre du texte et n est ici le nombre de génération. x et y sont à remplacer par des nombres et n par la variable correspondant au nombre de génération\n",
    "   \n",
    " canvas.create_text(x,y,font=(\"Purisa\", 15 , \"bold\"), text=\"génération :\"+str(n))\n",
    "   \n",
    "   Appeler une seconde fois et adapter ci-dessus pour afficher le nombre de carré. \n",
    "   \n",
    "4. Appeler la fonction nombre dans la partie PROG()\n",
    "   \n",
    "\n",
    "##  Créer une deuxième population \n",
    "\n",
    "Nous aimerions maintenant voir comment évolue les populations si on place deux espèces différentes, les rouges et les bleus par exemple. \n",
    "\n",
    "### Générer la population initiale. \n",
    "\n",
    "Les cases de notre grille qui correspondent à une population rouge auront le numéro 1 (c'est ce que l'on a fait dans la première partie). Celles qui correspondent à une population bleu auront le numéro 2\n",
    "\n",
    "Copier-coller la partie du code qui permet de créer la population initiale rouge et la transformer pour qu'elle génère une population bleu (avec des 2)\n",
    "\n",
    "\n",
    "### Afficher la population bleu. \n",
    "\n",
    "Dans la fonction Affiche, faite en sorte que celle-ci affiche des carrés bleus quand JEU[x][y]==2. \n",
    "\n",
    "### Compter le nombre de voisins\n",
    "\n",
    "La fonction Compte_Voisins doit être modifiés légèrement. Ajouter un argument à la fonction, cette argument prendra la valeur 1 quand on s'intéresse à la population rouge et 2 quand on s'intéresse à la population bleue. Vous compterez les voisins uniquement si ils sont de la population appelée (1 ou 2) \n",
    "\n",
    "### Evolution\n",
    "\n",
    "Modifier votre fonction évolution telle que pour chaque point de la grille: \n",
    "\n",
    "1. si le nombre de voisins de la population rouge est strictement supérieur à 1 et strictement supérieur au  nombre de voisins de la population bleue alors la case devient rouge. \n",
    "\n",
    "2. sinon si le nombre de voisins de la population bleue est strictement supérieur à 1 et strictement supérieur au  nombre de voisins de la population rouge alors la case devient bleue.\n",
    "\n",
    "3. Dans tous les autres cas, la case ne change pas. \n",
    "\n",
    "## Jouer \n",
    "\n",
    "Jouer avec votre programme en changeant les conditions initiales et les règles d'évolution.\n",
    "\n",
    "## Aller plus loin\n",
    "\n",
    "1. Afficher le nombres de cases rouges et le nombre de cases bleues .\n",
    "  \n",
    "2. Faire en sorte que l'on puisse mettre une grille de départ à la place du choix aléatoire. \n",
    "\n",
    "\n",
    "\n"
   ]
  },
  {
   "cell_type": "markdown",
   "id": "4681d424",
   "metadata": {},
   "source": []
  }
 ],
 "metadata": {
  "kernelspec": {
   "display_name": "Python 3 (ipykernel)",
   "language": "python",
   "name": "python3"
  },
  "language_info": {
   "codemirror_mode": {
    "name": "ipython",
    "version": 3
   },
   "file_extension": ".py",
   "mimetype": "text/x-python",
   "name": "python",
   "nbconvert_exporter": "python",
   "pygments_lexer": "ipython3",
   "version": "3.9.7"
  }
 },
 "nbformat": 4,
 "nbformat_minor": 5
}
