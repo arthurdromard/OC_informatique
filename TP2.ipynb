{
 "cells": [
  {
   "cell_type": "markdown",
   "id": "b6d90df3-ecdd-41d2-980b-1be2a4749232",
   "metadata": {},
   "source": [
    "# TP n°2: Crypter et décrypter un fichier\n",
    "\n",
    "**But:** : Dans ce TP, nous allons voir des techniques simple pour crypter, décrypter et casser le cryptage d'un code. On abordera en plus la notion de fonction (que l'on verra bientôt en cours) et comment lire et écrire sur un fichier. \n",
    "\n",
    "## étape 1: coder et décoder un mot avec un code ASCII. \n",
    "\n",
    "### Coder le mot \n",
    "\n",
    "Comme nous avions vu en cours, il existe un ordre précis pour les différents caractères. Celui-ci est lié directement au code ascii de ce caractère. Vous pouvez trouver la correspondance dans le fichier table_ascii. \n",
    "Il existe une fonction python qui permet d'obtenir le code ascii d'un caractère. Cette fonction est ord(). ord(\"a\"), vous renverra le numéro du caractère \"a\". \n",
    "\n",
    "*exercice:* \n",
    "1. Déterminer le code ascii des caractères suivant: a, d ,A, F, 2 et \\[\n",
    "2. Essayer les commandes: ord(\"AA\"), ord(a) et ord(2). Pourquoi ne marchent-t-elles pas ?"
   ]
  },
  {
   "cell_type": "code",
   "execution_count": null,
   "id": "94e7cb23-147c-4860-ba51-f10970e9fa4c",
   "metadata": {},
   "outputs": [],
   "source": []
  },
  {
   "cell_type": "markdown",
   "id": "25f8dc26-c804-4de1-a1f3-484caed12128",
   "metadata": {},
   "source": [
    "*exercice:*\n",
    "\n",
    "À l'aide d'une boucle for, faites un petit programme qui permet de remplacer un mot en une suite de caractères ASCII. On fera en sorte qu'il y ait un espace entre chaque numéro et que le mot à chiffrer soit une variable. \n",
    "\n",
    "aide: \n",
    "1. Les chaines de caractères peuvent être concaténées c'est à dire collées en faisant juste +\n",
    "2. Les nombres ascii devrais être traités comme des chaines de caractères."
   ]
  },
  {
   "cell_type": "code",
   "execution_count": null,
   "id": "c39937b5-2590-42a0-9c58-675ad2676834",
   "metadata": {},
   "outputs": [],
   "source": []
  },
  {
   "cell_type": "markdown",
   "id": "81801f9c-cb38-4ed3-a30f-85e36eb04a51",
   "metadata": {},
   "source": [
    "### Déchiffrer le mot \n",
    "\n",
    "La première chose à apprendre c'est à décoder une lettre: pour se faire il suffit d'utiliser la fonction chr(). \n",
    "Elle fait appel à un entier et la transforme en lettre. Exemple: chr(72) donne \"H\". \n",
    "\n",
    "Décoder un mot complet n'est pas facile. Nous allons y aller par étape: \n",
    "\n",
    "*étape 1*: lire la première lettre \n",
    "\n",
    "À l'aide d'une boucle while: créer un petit programme qui lit les premiers chiffres d'un mot chiffré et s'arrête quand il trouve un espace (donc quand la première lettre est finie) ou que c'est la fin du mot chiffré. Il affichera les chiffres trouvés \n",
    "\n",
    "exemple: pour le mot chiffré: \"72 101 108 108 111\", votre programme doit afficher \"72\"\n",
    "\n",
    "*étape 2*: déchiffrer la première lettre\n",
    "\n",
    "Compléter votre programme de façon qu'à la place du nombre correspondant à la première lettre, il vous affiche la première lettre. \n",
    "\n",
    "exemple: pour le mot chiffré: \"72 101 108 108 111\", votre programme doit afficher \"H\"\n",
    "\n"
   ]
  },
  {
   "cell_type": "code",
   "execution_count": null,
   "id": "89caa72f-e02e-4051-a810-29b0cea0551d",
   "metadata": {},
   "outputs": [],
   "source": []
  },
  {
   "cell_type": "markdown",
   "id": "b2644da3-dad2-4d85-8546-9b5b45d358b4",
   "metadata": {},
   "source": [
    "*étape 3:* déchiffrer la prochaine lettre et afficher le début du mot. \n",
    "\n",
    "Maintenant que l'on sait déchiffrer la première lettre, il faut passer à la suivante. \n",
    "\n",
    "Pour faire ça, il suffit de recommencer votre boucle while mais en ne partant plus de la position 0 mais de la position juste après le premier espace trouvé.\n",
    "\n",
    "Faite en sorte que votre programme affiche le début du mot.\n",
    "\n",
    "exemple: pour le mot chiffré: \"72 101 108 108 111\", votre programme doit afficher \"He\"\n"
   ]
  },
  {
   "cell_type": "code",
   "execution_count": null,
   "id": "680918fd-b207-4d0a-9d1a-0a56cbdec9fb",
   "metadata": {},
   "outputs": [],
   "source": []
  },
  {
   "cell_type": "markdown",
   "id": "32e451e1-5a11-4b02-be5e-040d2a9b9e62",
   "metadata": {},
   "source": [
    "étape 4: Déchiffrer le mot complet. \n",
    "\n",
    "À l'aide d'une boucle, faites en sorte que votre programme déchiffre le mot complet."
   ]
  },
  {
   "cell_type": "code",
   "execution_count": null,
   "id": "275cf990-f466-446a-8b32-29bf90a40452",
   "metadata": {},
   "outputs": [],
   "source": []
  },
  {
   "cell_type": "markdown",
   "id": "2137bd46-ce72-46ac-8df9-31e54b866c52",
   "metadata": {},
   "source": [
    "### Vos fonctions coder et encoder. \n",
    "\n",
    "En Python, il est possible de créer vos propres fonctions. Ce qui est très pratique pour ne pas à avoir à recopier des morceaux de code. (Moins on copie, plus il est facile de repérer et corriger les bugs)\n",
    "\n",
    "Pour définir une fonction faisant appelle à un argument, on le fait de la façon suivante: \n",
    "\n",
    "def fonction(arg): # Défintion de la fonction\n",
    "\n",
    "    code.... # Ce que fait la fonction \n",
    "\n",
    "    return resultat: # On sort le résultat\n",
    "    \n",
    "exemple: "
   ]
  },
  {
   "cell_type": "code",
   "execution_count": null,
   "id": "091f9a52-d8f9-4d88-a305-cd22fa2e241c",
   "metadata": {},
   "outputs": [],
   "source": [
    "def plus3(nombre): # cette fonction ajoute 3 à nombre\n",
    "    res= nombre +3\n",
    "    return res \n",
    "\n",
    "neuf=plus3(6)\n",
    "douze=plus3(neuf)\n",
    "\n",
    "print(neuf, douze)\n",
    "    "
   ]
  },
  {
   "cell_type": "markdown",
   "id": "c07feb2c-ac19-421a-a9f7-46fcea667dae",
   "metadata": {},
   "source": [
    "on remarque: \n",
    "\n",
    "+ \"def\":  devant la fonction qui permet de dire que c'est une défnition\n",
    "+ \":\": qui permette de dire que la fonction commence. \n",
    "+ \"return\": qui permet de donner le résultat de la fonction \n",
    "\n",
    "**Exercice:**\n",
    "écrire une fonction qui multiplie un nombre par 7. \n"
   ]
  },
  {
   "cell_type": "code",
   "execution_count": null,
   "id": "35f7a561-5037-4724-bceb-b265493b5e8d",
   "metadata": {},
   "outputs": [],
   "source": []
  },
  {
   "cell_type": "markdown",
   "id": "b52b8422-fe5d-41ca-ae2d-948b7210abd5",
   "metadata": {},
   "source": [
    "**Exercice**: Définir deux fonctions (il s'agit de mettre les minis-porgrammes dans des fonctions): \n",
    "\n",
    "+ La fonction chiffrer() qui permet de chiffrer un mot. L'argument sera le mot et elle retourne le mot chiffré. \n",
    "+ La fonction dechiffrer() qui permet de déchiffrer un mot chiffré. L'argument sera le mot chiffré et elle retourne le mot déchiffré.\n",
    "\n",
    "Essayer vos fonctions en prennant un mot ou une phrase en la chiffrant et en la déchiffrant."
   ]
  },
  {
   "cell_type": "code",
   "execution_count": null,
   "id": "4fd23701-0f66-482c-bf78-d8aa8fb40ab0",
   "metadata": {},
   "outputs": [],
   "source": []
  },
  {
   "cell_type": "markdown",
   "id": "81927093-6593-439c-9e5b-dad41d109ca9",
   "metadata": {},
   "source": [
    "## Encoder et Décoder un fichier\n",
    "\n",
    "**Ouvrir un fichier:** \n",
    "Pour ouvrir un fichier c'est particulièrement simple en python. Il suffit de taper:\n",
    "fichier = open('nom_du_fichier', option)\n",
    "\n",
    "*\"nom_du_fichier\":* étant le chemin du fichier puis son nom. Pour un fichier qui est déjà dans le dossier dans lequel vous travailler, c'est juste son nom. \n",
    "\n",
    "*option:* étant les options d'ouverture du fichier. \"r\" est pour readable, vous l'ouvrez en lecture seulement. \"w\" est pour writable, vous pouvez écrire dessus (attention efface le fichier existant). \"w+\" permet d'écrire à la suite du fichier. \"x\" est pour executable, si c'est un programme vous pouvez l'exécuter.  \n",
    "\n",
    "Si le fichier n'existe pas, il sera créé.\n",
    "\n",
    "exemple: \n",
    "fichier_exemple = open('text.txt',\"r\") # ouvre le fichier text.txt en lecture seule et le désigne dans le code par le nom fichier_exemple \n",
    "\n",
    "**Lire un fichier:**\n",
    "\n",
    "Pour lire un fichier, il suffit de taper fichier.read()\n",
    "\n",
    "exemple: \n",
    "\n",
    "fichier_exemple.read()\n",
    "\n",
    "Le mieux est d'enregistrer le contenu du fichier dans une variable pour que ça soit utile. \n",
    "exemple: \n",
    "text=fichier_exemple.read()\n",
    "\n",
    "Je peux alors l'afficher en faisant print(text)\n",
    "\n",
    "**Écrire dans un fichier**\n",
    "\n",
    "Pour écrire dans un fichier, il faut d'abord l'avoir ouvert en mode écriture.\n",
    "\n",
    "exemple: fichier_ecriture = open('text_2.txt',\"w\")\n",
    "\n",
    "Ensuite il suffit d'utiliser la fonction print avec l'option file\n",
    "\n",
    "exemple: print(text, file=fichier_ecriture)\n",
    "\n",
    "*ATTENTION*: Pour voir le text apparaître dans le fichier, il faut fermer le fichier. \n",
    "\n",
    "exemple: fichier_ecriture.close()\n",
    "\n",
    "**Exercice:**\n",
    "\n",
    "1. Ouvrez le fichier Hooverphonic.txt et afficher son texte. \n",
    "2. Dans un fichier Madaboutyou.txt écrire le texte présent dans le fichier Hooverphonic.txt\n"
   ]
  },
  {
   "cell_type": "code",
   "execution_count": null,
   "id": "c181a3f0-7218-48f1-a661-d0e4d25fa78e",
   "metadata": {},
   "outputs": [],
   "source": []
  },
  {
   "cell_type": "markdown",
   "id": "02e56d0c-5465-40a4-84fb-58dce55d96a9",
   "metadata": {},
   "source": [
    "**Exercice**\n",
    "\n",
    "Chiffrer le texte contenu dans Hooverphonics.txt et le sauvegarder dans un fichier nommer Hoover_encrypt.txt \n"
   ]
  },
  {
   "cell_type": "code",
   "execution_count": null,
   "id": "71211287-9c9f-4a25-9a53-14b0bc31dfa7",
   "metadata": {},
   "outputs": [],
   "source": []
  },
  {
   "cell_type": "markdown",
   "id": "c3530514-f1b8-48eb-a7b1-44484ac68112",
   "metadata": {},
   "source": [
    "**Exercice**\n",
    "\n",
    "Créer une fonction qui prend le nom d'un fichier comme argument et crée un fichier chiffré contenant le texte du premier fichier et le fichier sera nommé \"nom_crypt.txt\" où \"nom\" doit être remplacé par le nom du fichier.\n",
    "\n",
    "Tester-là sur le fichier Hoover."
   ]
  },
  {
   "cell_type": "code",
   "execution_count": null,
   "id": "5f62223b-6e0a-4bb0-b308-e585a9dec634",
   "metadata": {},
   "outputs": [],
   "source": [
    "\n",
    "    "
   ]
  },
  {
   "cell_type": "markdown",
   "id": "8d6eb82a-558a-4187-8044-7c48a2472df8",
   "metadata": {},
   "source": [
    "**Exercice**\n",
    "\n",
    "Déchiffrer le fichier mystere1.txt"
   ]
  },
  {
   "cell_type": "code",
   "execution_count": null,
   "id": "d0110822-4490-4f38-8430-10499f42a0d6",
   "metadata": {},
   "outputs": [],
   "source": []
  },
  {
   "cell_type": "markdown",
   "id": "07662da3-3d3e-4b55-834e-fd93bc0f8030",
   "metadata": {},
   "source": [
    "## Chiffrage par décalage\n",
    "\n",
    "L'idée de ce code est relativement facile. Il s'agit de décaler les lettres d'un nombre que l'on appelera:  clé. Par exemple, si on a une clé de 3. Alors le A devient un D, le B devient un E, le C devient un F et ainsi de suite... \n",
    "\n",
    "Ainsi le mot CHEVAL deviendrait FKHYDO, le rendant illisible. \n",
    "\n",
    "**Exercice** \n",
    "\n",
    "1. En passant par le code ASCII des lettres, créer une fonction qui encode un mot (donné en argument) pour une clé donnée en argument. \n",
    "\n",
    "2. De même créer une fonction qui décode le mot grâce à la clé. (les arguments seront le mot chiffré et la clé) \n"
   ]
  },
  {
   "cell_type": "code",
   "execution_count": null,
   "id": "bbe9f1d8-1275-42fa-a31a-26bd0febfacd",
   "metadata": {},
   "outputs": [],
   "source": []
  },
  {
   "cell_type": "markdown",
   "id": "d9315c08-8ab4-4c02-acc1-49310e1bc174",
   "metadata": {},
   "source": [
    "**Exercice**\n",
    "\n",
    "Faire une fonction qui permet de chiffrer un fichier et une qui permet de déchiffrer un fichier avec la clé. \n",
    "Les caractères de retour à la ligne \"\\n\" ne seront pas transformés.\n"
   ]
  },
  {
   "cell_type": "code",
   "execution_count": null,
   "id": "126b771e-3dc6-450f-93c3-a1ded3b37211",
   "metadata": {},
   "outputs": [],
   "source": [
    "\n"
   ]
  },
  {
   "cell_type": "code",
   "execution_count": null,
   "id": "7cb3eac4-e7c8-48c6-84cc-3f9f89a7b093",
   "metadata": {},
   "outputs": [],
   "source": []
  },
  {
   "cell_type": "markdown",
   "id": "29a11ce7-1a81-41fb-97b9-84bbdd239110",
   "metadata": {},
   "source": [
    "## Allez plus loin\n",
    "\n",
    "### Craquez le chiffrage\n",
    "\n",
    "Pour craquer ce genre de chiffrage, une possibilité est d'étudier la statistique d'un texte. C'est à dire de regarder quel caractère revient le plus souvent. Dans un texte en français, les deux caractères les plus fréquent sont \" \" et \"e\". \n",
    "Ainsi le caractère revenant le plus souvent dans la version codé a de grande chance d'être \" \". En faisant la différence  du nombre ASCII du caractère le plus fréquent et  celui de \" \", on trouve la clé et on peut déchiffrer facilement. \n",
    "\n",
    "**Exercice**\n",
    "\n",
    "Dans le code suivant, j'ai cronstruit deux fonctions. \n",
    "   \n",
    "   1. stat_fichier: elle prend comme argument le nom du ficher et en resort un dictionnaire (type de stockage de donnée Python un peu particulier) contenant le nombres de fois qu'un caractère est présent dans le fichier. \n",
    "   2. maximum: prend un dictionnaire en entrée et ressort le caractère avec le plus grand nombre d'utilisations. \n",
    "   \n",
    "Se servir de ces deux fonctions (sans les modifier) pour créer une fonction de craquage vous donnant la clé.\n"
   ]
  },
  {
   "cell_type": "code",
   "execution_count": 1,
   "id": "c1f8c3d2-d219-4359-9fa4-1a4567f310f2",
   "metadata": {},
   "outputs": [],
   "source": [
    "def stat_fichier(nom):\n",
    "    fichier_stat=open(nom)\n",
    "    text =  fichier_stat.read()\n",
    "    text= text.lower()\n",
    "\n",
    "    dict={}\n",
    "    for i in text:\n",
    "        if i in dict.keys():\n",
    "            dict[i] += 1\n",
    "        else:\n",
    "            dict[i] = 1\n",
    "            \n",
    "    return dict\n",
    "\n",
    "def maximum(dict):\n",
    "    \n",
    "    max=0; \n",
    "    for i in dict.keys():\n",
    "        if dict[i] > max:\n",
    "            max=dict[i]\n",
    "            carac=i\n",
    "    return carac\n",
    "\n",
    "\n",
    "        "
   ]
  },
  {
   "cell_type": "markdown",
   "id": "c837ce85-edae-4fa6-8639-154234296ffc",
   "metadata": {},
   "source": [
    "**Exercice** \n",
    "\n",
    "Craquez le chiffrage du fichier mystere2"
   ]
  },
  {
   "cell_type": "markdown",
   "id": "98971167-78d2-4a94-9f7e-084818cce74e",
   "metadata": {},
   "source": [
    "### Codez que avec des lettres\n",
    "\n",
    "**Exercice**\n",
    "\n",
    "Modifier vos codes de chiffrage par décalage pour que le fichier de sorti ne contienne que des lettres et que les espaces ne soient pas modifiés."
   ]
  },
  {
   "cell_type": "code",
   "execution_count": null,
   "id": "d9f8fc72-fda3-4d0c-9725-640537e086a2",
   "metadata": {},
   "outputs": [],
   "source": []
  },
  {
   "cell_type": "markdown",
   "id": "94ea764c-0a6e-48df-844d-e63d6b37798b",
   "metadata": {},
   "source": [
    "### Un codage moins facile à craquer\n",
    "\n",
    "Il est possible de légèrement modifier l'encodage pour qu'il soit plus difficile à cracker. L'idée est de faire en sorte que la clé dépendent du caractère. Pour se faire, il suffit au lieu d'additionner une constante d'utiliser une fonction. Par exemple de multiplier par 2, le nombre ASCII associé au caractère. La clé devient alors une fonction: l'exemple f(x)=2*x. \n",
    "\n",
    "*Attention*: La fonction doit être invertible sinon il n'est pas possible de décoder le message.   \n",
    "\n",
    "Créer des programmes qui codent et décodent avec une fonction de votre choix."
   ]
  },
  {
   "cell_type": "code",
   "execution_count": null,
   "id": "a64266b0-1e6e-4e41-b2bf-325996f43b22",
   "metadata": {},
   "outputs": [],
   "source": []
  },
  {
   "cell_type": "code",
   "execution_count": null,
   "id": "a8219730-fb95-4d46-adc6-1eb2822cb3cd",
   "metadata": {},
   "outputs": [],
   "source": []
  }
 ],
 "metadata": {
  "kernelspec": {
   "display_name": "Python 3 (ipykernel)",
   "language": "python",
   "name": "python3"
  },
  "language_info": {
   "codemirror_mode": {
    "name": "ipython",
    "version": 3
   },
   "file_extension": ".py",
   "mimetype": "text/x-python",
   "name": "python",
   "nbconvert_exporter": "python",
   "pygments_lexer": "ipython3",
   "version": "3.9.5"
  }
 },
 "nbformat": 4,
 "nbformat_minor": 5
}
