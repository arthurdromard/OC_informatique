{
 "cells": [
  {
   "cell_type": "markdown",
   "id": "9f71e8ff-5015-4ade-8a5e-0cfda803bdf6",
   "metadata": {
    "tags": []
   },
   "source": [
    "# Dessiner avec python\n",
    "\n",
    "Dans ce TP, nous allons apprendre à dessiner avec Python en nous servant de la librairie Turtle. Elle nous permetra en plus de créer deux petits jeux.\n",
    "L'idée de ce TP est de vous apprendre à utiliser une librairie et d'être capable d'aller fouiller dans la documentation pour touver ce qui vous intéresse.\n",
    "\n",
    "Malheureusement Jupyter, ne fonctionne pas bien avec cette librairie donc aujourd'hui, il faudra codé dans IDLE.\n",
    "\n",
    "## 1. La librairie turtle \n",
    "\n",
    "### 1.1. Qu'est-ce qu'une librairie ?\n",
    "\n",
    "Une librairie est un ensemble de fonction déjà programmée de façon efficace et qui peuvent être utilisée directement. \n",
    "\n",
    "Nous avons déjà utilisé des librairies sans vraiment le dire. Pour générer des nombres aléatoires ou pour utiliser certaines fonctions mathématiques.  \n",
    "\n",
    "###  1.2. Comment utiliser une librairie ? \n",
    "\n",
    "Pour utiliser une librairie, il faut tout d'abord l'importer grâce à la commande \"import\"\n"
   ]
  },
  {
   "cell_type": "code",
   "execution_count": null,
   "id": "41afeff4-0df6-4ad7-a591-b3f35bf11201",
   "metadata": {},
   "outputs": [],
   "source": [
    "import turtle #pour utiliser turtle\n",
    "import random # pour utiliser random - génération de nombre aléatoire\n",
    "import math # pour utiliser des fonctions mathématques avancées.\n"
   ]
  },
  {
   "cell_type": "markdown",
   "id": "9ff8d62b-754f-47a9-9576-50ebaa620c82",
   "metadata": {},
   "source": [
    "Les fonctions de la librairie peuvent ensuite être utilisées de la façon suivante: \"nom_librairie.nom_fonction()\". Exemple: turtle.getscreen() "
   ]
  },
  {
   "cell_type": "code",
   "execution_count": null,
   "id": "3dc2b382-c6d2-4095-831f-d8f2dbf7e486",
   "metadata": {},
   "outputs": [],
   "source": [
    "random.randint(a,b) # génère un nombre aléatoire entier entre a et b\n",
    "turtle.getscreen()  # affiche l'écran sur lequel on va dessiner"
   ]
  },
  {
   "cell_type": "markdown",
   "id": "9b9dd945-dc23-4fb1-9300-9b96d27f2ce6",
   "metadata": {},
   "source": [
    "## 2. Utilisation de la librairie turtle\n",
    "\n",
    "Au centre de l'écran, vous voyez une flèche qui représente l'endroit à partir duquel vous pouvez dessiner: votre stylo. \n",
    "En le déplaçant vous allez pouvoir dessiner sur la feuille. Exemple: "
   ]
  },
  {
   "cell_type": "code",
   "execution_count": null,
   "id": "8b791785-c3aa-406e-8699-dffefe5d6d87",
   "metadata": {},
   "outputs": [],
   "source": [
    "turtle.forward(100) # fait aller votre stylo de 100 vers l'avant \n",
    "turtle.left(90) # tourne votre stylo de 90° vers la gauche. \n",
    "turtle.forward(100) \n",
    "turtle.right(45) # tourne votre stylo de 45° vers la droite.\n",
    "turtle.backward(100) # fait reculer votre stylo de 100 vers l'arrière "
   ]
  },
  {
   "cell_type": "markdown",
   "id": "2813ea1d-19d3-4e68-9992-97a3480c78b0",
   "metadata": {},
   "source": [
    "Il est possible de changer la forme de notre stylo en utilisant: \"turtle.shape(\"la_forme\")\". Exemples: "
   ]
  },
  {
   "cell_type": "code",
   "execution_count": null,
   "id": "109f11de-0b7a-4db9-ac20-a40ea3761070",
   "metadata": {},
   "outputs": [],
   "source": [
    "turtle.shape(\"circle\")\n",
    "turtle.shape(\"turtle\")"
   ]
  },
  {
   "cell_type": "markdown",
   "id": "00e8660c-6509-49dd-9820-f878e6bb4d8c",
   "metadata": {},
   "source": [
    "**Exercice:** \n",
    "   \n",
    "   1. Dessiner un carré avec turtle.\n",
    "   \n",
    "   2. Dessiner un triangle avec turtle \n",
    "   \n",
    "   3. Dessiner un decagone régulier (10 sommets)    "
   ]
  },
  {
   "cell_type": "markdown",
   "id": "3fe4c596-e164-4a51-bcc0-ca5c87894b26",
   "metadata": {},
   "source": [
    "### 2.1. Tracer des formes\n",
    "\n",
    "Il est possible de dessiner des formes directement: \n",
    "\n",
    "un cercle: \n",
    "turtle.circle(\"rayon\")\n",
    "\n",
    "**Exercices**\n",
    "\n",
    "1. Essayer cette comande: turtle.circle(200, steps=4)\n",
    "\n",
    "2. En déduire comment faire un triangle\n",
    "\n",
    "3. essayer cette comande: turtle.circle(200, 90)\n",
    "\n",
    "4. À l'aide de la commande faire une spirale  (aide, une spirale est une succéssion de partie de cercle dont le rayon augmente progressivement)\n",
    "\n",
    "### 2.2. Se déplacer\n",
    "\n",
    "Pour se déplacer dans la fenêtre en un endroit précis, on peut utiliser la fonction goto(x,y) qui nous place au point de coordonnée x,y \n",
    "exemple: turtle.goto(0,0) nous place à l'origine. \n",
    "\n",
    "**Exercices**\n",
    "Essayer de vous déplacer sur le dessin et de déterminer approcimativement les limites visibles de la fenêtre.\n",
    "\n",
    "Le problème de la fonction goto est qu'elle nous fait dessiner un trait pendant le déplacement. \n",
    "Il est possible d'empécher cela en utilisant: la fonction penup() toujours de turtle qui permet de relever le stylo. Ainsi le stylo ne laisse plus de trait en se déplaçant. Pour redessiner, il suffit de redescendre le stylo pendown()\n",
    "\n",
    "**Exercices** \n",
    "\n",
    "Dessiner à un endroit, déplacer vous à un autre endroit et refaite un dessin \n"
   ]
  },
  {
   "cell_type": "markdown",
   "id": "14130c28-b309-44cb-82a3-250639742253",
   "metadata": {},
   "source": [
    "## 3. La course de tortue\n",
    "\n",
    "Le but de cette partie va être de créer un jeu de course de tortue très simple. \n",
    "\n",
    "### 3.1. Première partie : simuler un dé. \n",
    "\n",
    "la librairie random permet de générer des nombres aléatoires. Il existe notament la fonction randint(a,b) de la librairie qui permet de créer un nombre entier aléatoire entre a et b compris. \n",
    "\n",
    "**Exercice** \n",
    "\n",
    "À l'aide de la librairie random créé une fonction qui simule un jet de dés. Elle ne prend aucun argument en entrée mais ressort un nombre aléatoire entre 1 et 6. \n",
    "\n",
    "Tester votre fonction\n",
    "\n",
    "### 3.2. Deuxième partie : créer la piste. \n",
    "\n",
    "**Exercice** \n",
    "\n",
    "Créer deux cercles de rayon 50 qui seront l'arrivée des tortues. Créer le premier à la position (300,50) et le deuxième à la position (300, -150)\n",
    "\n",
    "\n",
    "### 3.3. Troisième partie : créer le deuxième joueur\n",
    "\n",
    "Pour notre jeu on va avoir besoin de deux joueurs: il va donc falloir créer un deuxiême curseur. Mais avant ça donnons un nom à notre premier curseur. \n",
    "\n",
    "Exemple: "
   ]
  },
  {
   "cell_type": "code",
   "execution_count": null,
   "id": "6b912c97-fbcf-4c6e-b3dd-2fd054f8235c",
   "metadata": {},
   "outputs": [],
   "source": [
    "joueur1= turtle.Turtle() ## donne un nom à mon curseur\n",
    "joueur1.color(\"green\") ## lui donne la couleur verte \n",
    "joueur1.shape(\"turtle\") ## lui donne la forme d'une tortue\n",
    "joueur1.penup()"
   ]
  },
  {
   "cell_type": "markdown",
   "id": "1e91091f-32e0-48fd-aef3-35cfd5ba112d",
   "metadata": {},
   "source": [
    "Pour permettre un deuxième joueur, il suffit de cloner celui-ci avec la fonction: joueur2= joueur1.clone()\n",
    "\n",
    "**Exercice**:\n",
    "\n",
    "Créer le joueur 1 et le joueur 2. Donner leurs des couleurs différentes et faites commencer vos tortues à la position (-200,100) pour le joueur 1 et (-200,-100) pour le joueur 2. \n",
    "\n",
    "\n"
   ]
  },
  {
   "cell_type": "markdown",
   "id": "4306e848-ff70-4a42-a8b8-1df0e3225827",
   "metadata": {},
   "source": [
    "### 3.4. Quatrième partie: le jeu\n",
    "\n",
    "Maintenant que la piste et les joueurs sont en place, il faut mettre en place le jeu. \n",
    "Celui-ci est le suivant: \n",
    "À chaque tour, le joueur va lancer un dé. Plus le nombre sur le dé est important plus la tortue va avancer. La première tortue à passer la ligne d'arriver va gagner. \n",
    "\n",
    "Un peu d'aide pour programmer: \n",
    "\n",
    "1. Commencer par faire un programme qui demande au joueur 1 puis au joueur 2 d'appuyer sur entrer pour lancer le dé. C'est à dire utiliser la fonction input pour demander d'appuyer sur entrer puis utiliser la fonction qui simule un jet de dé. \n",
    "\n",
    "2. Faire avancer le joueur de la distance correspondant au jet de dé multiplier par 10. (ex: si on a obtenu un 4 alors la distance est de 40)\n",
    "\n",
    "3. L'intégrer dans une boucle while qui testera si l'un des joueurs a dépacé les bords du cercle. (la position du joueur peut être connue grace à la fonction position(). Elle donne une liste de 2 nombres, seul le premier est intéressant la position horizontale)"
   ]
  },
  {
   "cell_type": "markdown",
   "id": "a845deb7-4297-4c31-b668-17133294354b",
   "metadata": {},
   "source": [
    "## 4. Intéragir avec l'écran\n",
    "\n",
    "### 4.1. Le code de base\n",
    "\n",
    "Le code suivant permet d'intéragir au clavier avec le stylo. \n",
    "\n",
    "+ La fonction listen() permet de faire en sorte que l'écran de Turtle soit actif. \n",
    "\n",
    "+ La fonction onkey() permet de lui dire de faire une action lorsqu' on appuit sur une touche. Exemple: turtle.onkey(up, \"Up\"), appelle la fonction up lorsque qu'on appuit sur la flêche du haut du clavier (touche \"Up\")\n",
    "\n",
    "+ La fonction mainloop() permet au programme de rester actif\n"
   ]
  },
  {
   "cell_type": "code",
   "execution_count": null,
   "id": "e497ad8b-6d0b-4803-a039-261713fa48d8",
   "metadata": {},
   "outputs": [],
   "source": [
    "def up(): # Fonction pour déplacer vers le haut \n",
    "    x0=turtle.position()[0]\n",
    "    x1=turtle.position()[1]\n",
    "    x1+=10\n",
    "    turtle.goto(x0,x1)\n",
    "\n",
    "\n",
    "def left(): # Fonction pour déplacer vers la gauche\n",
    "    x0=turtle.position()[0]\n",
    "    x1=turtle.position()[1]\n",
    "    x0-=10\n",
    "    turtle.goto(x0,x1)\n",
    "\n",
    "\n",
    "\n",
    "turtle.listen() # active l'écran turtle\n",
    "\n",
    "turtle.onkey(up, \"Up\")  # Apelle la fonction up quand on appuie sur la flèche du haut \n",
    "turtle.onkey(left, \"Left\")\n",
    "\n",
    "\n",
    "turtle.mainloop()  # Permet au programme de rester actif et de lire les entrées claviers"
   ]
  },
  {
   "cell_type": "markdown",
   "id": "37f891e4-5d62-451d-88f3-b33cbb9cd367",
   "metadata": {},
   "source": [
    "**Exercice**\n",
    "\n",
    "1. Tester le programme ci-dessus\n",
    "\n",
    "2. Le compléter pour que votre stylo puisse aussi aller vers le bas et vers la droite\n",
    "\n",
    "### 4.2. Le jeu de la tortue 2\n",
    "\n",
    "#### 4.2.1. Reprendre la piste du jeu 1\n",
    "\n",
    "Copier-coller le début programme du premier jeu de façon à avoir les deux mêmes tortues et la même piste que pour le jeu 1.\n",
    "\n",
    "#### 4.2.2. Créer les fonctions déplacement\n",
    "\n",
    "Créer une fonction de déplacement vers la droite pour chacun des joueurs. Cette fonction doit le faire avancer de 10 si il n'est pas dans le cercle ou afficher \"victoire du joueur x\" si il est dans le cercle.\n",
    "\n",
    "#### 4.3.3. Attribuer les touches\n",
    "\n",
    "Attribuer les touches aux joueurs et faites tourner votre jeu. \n"
   ]
  },
  {
   "cell_type": "markdown",
   "id": "06c7fe8d-f665-43e5-bffe-6514ff3ce1c4",
   "metadata": {},
   "source": [
    "## Utilisation de la documentation\n",
    "\n",
    "La librairie turtle est bien plus riche que ce que je vous ai fait faire: \n",
    "    Vous retrouvez l'ensemble de la documentation sur le lien suivant:  https://docs.python.org/3/library/turtle.html\n",
    "    \n",
    "**Exercice**\n",
    "\n",
    "À l'aide de la documentation améliorer les programmes ou créer votre dessin \n",
    "    \n",
    "***Laisser parler votre créativité !!***"
   ]
  },
  {
   "cell_type": "code",
   "execution_count": null,
   "id": "838a14e7-09e7-48bf-8d23-1b21b87589bb",
   "metadata": {},
   "outputs": [],
   "source": []
  }
 ],
 "metadata": {
  "kernelspec": {
   "display_name": "Python 3 (ipykernel)",
   "language": "python",
   "name": "python3"
  },
  "language_info": {
   "codemirror_mode": {
    "name": "ipython",
    "version": 3
   },
   "file_extension": ".py",
   "mimetype": "text/x-python",
   "name": "python",
   "nbconvert_exporter": "python",
   "pygments_lexer": "ipython3",
   "version": "3.9.5"
  }
 },
 "nbformat": 4,
 "nbformat_minor": 5
}
